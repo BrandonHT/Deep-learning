{
  "cells": [
    {
      "cell_type": "code",
      "execution_count": 11,
      "metadata": {
        "id": "auaqKUAuFRwJ"
      },
      "outputs": [],
      "source": [
        "import numpy as np\n",
        "import pandas as pd\n",
        "import matplotlib.pyplot as plt\n",
        "\n",
        "from sklearn.preprocessing import OneHotEncoder\n",
        "from sklearn.preprocessing import RobustScaler\n",
        "from sklearn.model_selection import train_test_split"
      ]
    },
    {
      "attachments": {},
      "cell_type": "markdown",
      "metadata": {
        "id": "R7BOD99kHvAZ"
      },
      "source": [
        "# Descripción del problema\n",
        "\n",
        "Usaremos la base de datos: Beijing Multi-Site Air-Quality Data Data Set, la cual puede ser obtenida desde [https://archive.ics.uci.edu/ml/datasets/Beijing+Multi-Site+Air-Quality+Data](https://archive.ics.uci.edu/ml/datasets/Beijing+Multi-Site+Air-Quality+Data) (revisar la página para más detalles sobre los datos).\n",
        "\n",
        "Se ha proporcionado un archivo csv con la información obtenida de la estación de monitoreo Aotizhongxin, el cual contiene 35,064 registros.\n",
        "\n",
        "El objetivo es poder predecir la concetración de PM2.5 y de PM10 a partir de las variables año, mes, día, hora, temperatura, presión, punto de rocío, precipitación y velocidad del viento."
      ]
    },
    {
      "attachments": {},
      "cell_type": "markdown",
      "metadata": {
        "id": "oN6aBWNOWrY7"
      },
      "source": [
        "# Part 1: Load data"
      ]
    },
    {
      "attachments": {},
      "cell_type": "markdown",
      "metadata": {},
      "source": [
        "### When running in Google Colab, run the next cell to upload the CSV"
      ]
    },
    {
      "cell_type": "code",
      "execution_count": 2,
      "metadata": {
        "colab": {
          "base_uri": "https://localhost:8080/",
          "height": 73
        },
        "id": "kB4uTQwSFkVr",
        "outputId": "37ed0194-788b-4a70-ad14-3d7d75554ff2"
      },
      "outputs": [
        {
          "data": {
            "text/html": [
              "\n",
              "     <input type=\"file\" id=\"files-0ade7ca0-10b4-4431-8a70-ea30930743d4\" name=\"files[]\" multiple disabled\n",
              "        style=\"border:none\" />\n",
              "     <output id=\"result-0ade7ca0-10b4-4431-8a70-ea30930743d4\">\n",
              "      Upload widget is only available when the cell has been executed in the\n",
              "      current browser session. Please rerun this cell to enable.\n",
              "      </output>\n",
              "      <script>// Copyright 2017 Google LLC\n",
              "//\n",
              "// Licensed under the Apache License, Version 2.0 (the \"License\");\n",
              "// you may not use this file except in compliance with the License.\n",
              "// You may obtain a copy of the License at\n",
              "//\n",
              "//      http://www.apache.org/licenses/LICENSE-2.0\n",
              "//\n",
              "// Unless required by applicable law or agreed to in writing, software\n",
              "// distributed under the License is distributed on an \"AS IS\" BASIS,\n",
              "// WITHOUT WARRANTIES OR CONDITIONS OF ANY KIND, either express or implied.\n",
              "// See the License for the specific language governing permissions and\n",
              "// limitations under the License.\n",
              "\n",
              "/**\n",
              " * @fileoverview Helpers for google.colab Python module.\n",
              " */\n",
              "(function(scope) {\n",
              "function span(text, styleAttributes = {}) {\n",
              "  const element = document.createElement('span');\n",
              "  element.textContent = text;\n",
              "  for (const key of Object.keys(styleAttributes)) {\n",
              "    element.style[key] = styleAttributes[key];\n",
              "  }\n",
              "  return element;\n",
              "}\n",
              "\n",
              "// Max number of bytes which will be uploaded at a time.\n",
              "const MAX_PAYLOAD_SIZE = 100 * 1024;\n",
              "\n",
              "function _uploadFiles(inputId, outputId) {\n",
              "  const steps = uploadFilesStep(inputId, outputId);\n",
              "  const outputElement = document.getElementById(outputId);\n",
              "  // Cache steps on the outputElement to make it available for the next call\n",
              "  // to uploadFilesContinue from Python.\n",
              "  outputElement.steps = steps;\n",
              "\n",
              "  return _uploadFilesContinue(outputId);\n",
              "}\n",
              "\n",
              "// This is roughly an async generator (not supported in the browser yet),\n",
              "// where there are multiple asynchronous steps and the Python side is going\n",
              "// to poll for completion of each step.\n",
              "// This uses a Promise to block the python side on completion of each step,\n",
              "// then passes the result of the previous step as the input to the next step.\n",
              "function _uploadFilesContinue(outputId) {\n",
              "  const outputElement = document.getElementById(outputId);\n",
              "  const steps = outputElement.steps;\n",
              "\n",
              "  const next = steps.next(outputElement.lastPromiseValue);\n",
              "  return Promise.resolve(next.value.promise).then((value) => {\n",
              "    // Cache the last promise value to make it available to the next\n",
              "    // step of the generator.\n",
              "    outputElement.lastPromiseValue = value;\n",
              "    return next.value.response;\n",
              "  });\n",
              "}\n",
              "\n",
              "/**\n",
              " * Generator function which is called between each async step of the upload\n",
              " * process.\n",
              " * @param {string} inputId Element ID of the input file picker element.\n",
              " * @param {string} outputId Element ID of the output display.\n",
              " * @return {!Iterable<!Object>} Iterable of next steps.\n",
              " */\n",
              "function* uploadFilesStep(inputId, outputId) {\n",
              "  const inputElement = document.getElementById(inputId);\n",
              "  inputElement.disabled = false;\n",
              "\n",
              "  const outputElement = document.getElementById(outputId);\n",
              "  outputElement.innerHTML = '';\n",
              "\n",
              "  const pickedPromise = new Promise((resolve) => {\n",
              "    inputElement.addEventListener('change', (e) => {\n",
              "      resolve(e.target.files);\n",
              "    });\n",
              "  });\n",
              "\n",
              "  const cancel = document.createElement('button');\n",
              "  inputElement.parentElement.appendChild(cancel);\n",
              "  cancel.textContent = 'Cancel upload';\n",
              "  const cancelPromise = new Promise((resolve) => {\n",
              "    cancel.onclick = () => {\n",
              "      resolve(null);\n",
              "    };\n",
              "  });\n",
              "\n",
              "  // Wait for the user to pick the files.\n",
              "  const files = yield {\n",
              "    promise: Promise.race([pickedPromise, cancelPromise]),\n",
              "    response: {\n",
              "      action: 'starting',\n",
              "    }\n",
              "  };\n",
              "\n",
              "  cancel.remove();\n",
              "\n",
              "  // Disable the input element since further picks are not allowed.\n",
              "  inputElement.disabled = true;\n",
              "\n",
              "  if (!files) {\n",
              "    return {\n",
              "      response: {\n",
              "        action: 'complete',\n",
              "      }\n",
              "    };\n",
              "  }\n",
              "\n",
              "  for (const file of files) {\n",
              "    const li = document.createElement('li');\n",
              "    li.append(span(file.name, {fontWeight: 'bold'}));\n",
              "    li.append(span(\n",
              "        `(${file.type || 'n/a'}) - ${file.size} bytes, ` +\n",
              "        `last modified: ${\n",
              "            file.lastModifiedDate ? file.lastModifiedDate.toLocaleDateString() :\n",
              "                                    'n/a'} - `));\n",
              "    const percent = span('0% done');\n",
              "    li.appendChild(percent);\n",
              "\n",
              "    outputElement.appendChild(li);\n",
              "\n",
              "    const fileDataPromise = new Promise((resolve) => {\n",
              "      const reader = new FileReader();\n",
              "      reader.onload = (e) => {\n",
              "        resolve(e.target.result);\n",
              "      };\n",
              "      reader.readAsArrayBuffer(file);\n",
              "    });\n",
              "    // Wait for the data to be ready.\n",
              "    let fileData = yield {\n",
              "      promise: fileDataPromise,\n",
              "      response: {\n",
              "        action: 'continue',\n",
              "      }\n",
              "    };\n",
              "\n",
              "    // Use a chunked sending to avoid message size limits. See b/62115660.\n",
              "    let position = 0;\n",
              "    do {\n",
              "      const length = Math.min(fileData.byteLength - position, MAX_PAYLOAD_SIZE);\n",
              "      const chunk = new Uint8Array(fileData, position, length);\n",
              "      position += length;\n",
              "\n",
              "      const base64 = btoa(String.fromCharCode.apply(null, chunk));\n",
              "      yield {\n",
              "        response: {\n",
              "          action: 'append',\n",
              "          file: file.name,\n",
              "          data: base64,\n",
              "        },\n",
              "      };\n",
              "\n",
              "      let percentDone = fileData.byteLength === 0 ?\n",
              "          100 :\n",
              "          Math.round((position / fileData.byteLength) * 100);\n",
              "      percent.textContent = `${percentDone}% done`;\n",
              "\n",
              "    } while (position < fileData.byteLength);\n",
              "  }\n",
              "\n",
              "  // All done.\n",
              "  yield {\n",
              "    response: {\n",
              "      action: 'complete',\n",
              "    }\n",
              "  };\n",
              "}\n",
              "\n",
              "scope.google = scope.google || {};\n",
              "scope.google.colab = scope.google.colab || {};\n",
              "scope.google.colab._files = {\n",
              "  _uploadFiles,\n",
              "  _uploadFilesContinue,\n",
              "};\n",
              "})(self);\n",
              "</script> "
            ],
            "text/plain": [
              "<IPython.core.display.HTML object>"
            ]
          },
          "metadata": {},
          "output_type": "display_data"
        },
        {
          "name": "stdout",
          "output_type": "stream",
          "text": [
            "Saving PRSA_Aotizhongxin.csv to PRSA_Aotizhongxin.csv\n"
          ]
        }
      ],
      "source": [
        "# Requiered to select a file from your HD\n",
        "from google.colab import files\n",
        "uploaded = files.upload()"
      ]
    },
    {
      "attachments": {},
      "cell_type": "markdown",
      "metadata": {},
      "source": [
        "### Read the data"
      ]
    },
    {
      "cell_type": "code",
      "execution_count": 12,
      "metadata": {
        "colab": {
          "base_uri": "https://localhost:8080/",
          "height": 423
        },
        "id": "JwhYkkpoGG8y",
        "outputId": "fc245acf-98b2-4f79-9f81-69c1c9fd57ab"
      },
      "outputs": [
        {
          "data": {
            "text/html": [
              "<div>\n",
              "<style scoped>\n",
              "    .dataframe tbody tr th:only-of-type {\n",
              "        vertical-align: middle;\n",
              "    }\n",
              "\n",
              "    .dataframe tbody tr th {\n",
              "        vertical-align: top;\n",
              "    }\n",
              "\n",
              "    .dataframe thead th {\n",
              "        text-align: right;\n",
              "    }\n",
              "</style>\n",
              "<table border=\"1\" class=\"dataframe\">\n",
              "  <thead>\n",
              "    <tr style=\"text-align: right;\">\n",
              "      <th></th>\n",
              "      <th>No</th>\n",
              "      <th>year</th>\n",
              "      <th>month</th>\n",
              "      <th>day</th>\n",
              "      <th>hour</th>\n",
              "      <th>PM2.5</th>\n",
              "      <th>PM10</th>\n",
              "      <th>SO2</th>\n",
              "      <th>NO2</th>\n",
              "      <th>CO</th>\n",
              "      <th>O3</th>\n",
              "      <th>TEMP</th>\n",
              "      <th>PRES</th>\n",
              "      <th>DEWP</th>\n",
              "      <th>RAIN</th>\n",
              "      <th>wd</th>\n",
              "      <th>WSPM</th>\n",
              "      <th>station</th>\n",
              "    </tr>\n",
              "  </thead>\n",
              "  <tbody>\n",
              "    <tr>\n",
              "      <th>0</th>\n",
              "      <td>1</td>\n",
              "      <td>2013</td>\n",
              "      <td>3</td>\n",
              "      <td>1</td>\n",
              "      <td>0</td>\n",
              "      <td>4.0</td>\n",
              "      <td>4.0</td>\n",
              "      <td>4.0</td>\n",
              "      <td>7.0</td>\n",
              "      <td>300.0</td>\n",
              "      <td>77.0</td>\n",
              "      <td>-0.7</td>\n",
              "      <td>1023.0</td>\n",
              "      <td>-18.8</td>\n",
              "      <td>0.0</td>\n",
              "      <td>NNW</td>\n",
              "      <td>4.4</td>\n",
              "      <td>Aotizhongxin</td>\n",
              "    </tr>\n",
              "    <tr>\n",
              "      <th>1</th>\n",
              "      <td>2</td>\n",
              "      <td>2013</td>\n",
              "      <td>3</td>\n",
              "      <td>1</td>\n",
              "      <td>1</td>\n",
              "      <td>8.0</td>\n",
              "      <td>8.0</td>\n",
              "      <td>4.0</td>\n",
              "      <td>7.0</td>\n",
              "      <td>300.0</td>\n",
              "      <td>77.0</td>\n",
              "      <td>-1.1</td>\n",
              "      <td>1023.2</td>\n",
              "      <td>-18.2</td>\n",
              "      <td>0.0</td>\n",
              "      <td>N</td>\n",
              "      <td>4.7</td>\n",
              "      <td>Aotizhongxin</td>\n",
              "    </tr>\n",
              "    <tr>\n",
              "      <th>2</th>\n",
              "      <td>3</td>\n",
              "      <td>2013</td>\n",
              "      <td>3</td>\n",
              "      <td>1</td>\n",
              "      <td>2</td>\n",
              "      <td>7.0</td>\n",
              "      <td>7.0</td>\n",
              "      <td>5.0</td>\n",
              "      <td>10.0</td>\n",
              "      <td>300.0</td>\n",
              "      <td>73.0</td>\n",
              "      <td>-1.1</td>\n",
              "      <td>1023.5</td>\n",
              "      <td>-18.2</td>\n",
              "      <td>0.0</td>\n",
              "      <td>NNW</td>\n",
              "      <td>5.6</td>\n",
              "      <td>Aotizhongxin</td>\n",
              "    </tr>\n",
              "    <tr>\n",
              "      <th>3</th>\n",
              "      <td>4</td>\n",
              "      <td>2013</td>\n",
              "      <td>3</td>\n",
              "      <td>1</td>\n",
              "      <td>3</td>\n",
              "      <td>6.0</td>\n",
              "      <td>6.0</td>\n",
              "      <td>11.0</td>\n",
              "      <td>11.0</td>\n",
              "      <td>300.0</td>\n",
              "      <td>72.0</td>\n",
              "      <td>-1.4</td>\n",
              "      <td>1024.5</td>\n",
              "      <td>-19.4</td>\n",
              "      <td>0.0</td>\n",
              "      <td>NW</td>\n",
              "      <td>3.1</td>\n",
              "      <td>Aotizhongxin</td>\n",
              "    </tr>\n",
              "    <tr>\n",
              "      <th>4</th>\n",
              "      <td>5</td>\n",
              "      <td>2013</td>\n",
              "      <td>3</td>\n",
              "      <td>1</td>\n",
              "      <td>4</td>\n",
              "      <td>3.0</td>\n",
              "      <td>3.0</td>\n",
              "      <td>12.0</td>\n",
              "      <td>12.0</td>\n",
              "      <td>300.0</td>\n",
              "      <td>72.0</td>\n",
              "      <td>-2.0</td>\n",
              "      <td>1025.2</td>\n",
              "      <td>-19.5</td>\n",
              "      <td>0.0</td>\n",
              "      <td>N</td>\n",
              "      <td>2.0</td>\n",
              "      <td>Aotizhongxin</td>\n",
              "    </tr>\n",
              "    <tr>\n",
              "      <th>...</th>\n",
              "      <td>...</td>\n",
              "      <td>...</td>\n",
              "      <td>...</td>\n",
              "      <td>...</td>\n",
              "      <td>...</td>\n",
              "      <td>...</td>\n",
              "      <td>...</td>\n",
              "      <td>...</td>\n",
              "      <td>...</td>\n",
              "      <td>...</td>\n",
              "      <td>...</td>\n",
              "      <td>...</td>\n",
              "      <td>...</td>\n",
              "      <td>...</td>\n",
              "      <td>...</td>\n",
              "      <td>...</td>\n",
              "      <td>...</td>\n",
              "      <td>...</td>\n",
              "    </tr>\n",
              "    <tr>\n",
              "      <th>35059</th>\n",
              "      <td>35060</td>\n",
              "      <td>2017</td>\n",
              "      <td>2</td>\n",
              "      <td>28</td>\n",
              "      <td>19</td>\n",
              "      <td>12.0</td>\n",
              "      <td>29.0</td>\n",
              "      <td>5.0</td>\n",
              "      <td>35.0</td>\n",
              "      <td>400.0</td>\n",
              "      <td>95.0</td>\n",
              "      <td>12.5</td>\n",
              "      <td>1013.5</td>\n",
              "      <td>-16.2</td>\n",
              "      <td>0.0</td>\n",
              "      <td>NW</td>\n",
              "      <td>2.4</td>\n",
              "      <td>Aotizhongxin</td>\n",
              "    </tr>\n",
              "    <tr>\n",
              "      <th>35060</th>\n",
              "      <td>35061</td>\n",
              "      <td>2017</td>\n",
              "      <td>2</td>\n",
              "      <td>28</td>\n",
              "      <td>20</td>\n",
              "      <td>13.0</td>\n",
              "      <td>37.0</td>\n",
              "      <td>7.0</td>\n",
              "      <td>45.0</td>\n",
              "      <td>500.0</td>\n",
              "      <td>81.0</td>\n",
              "      <td>11.6</td>\n",
              "      <td>1013.6</td>\n",
              "      <td>-15.1</td>\n",
              "      <td>0.0</td>\n",
              "      <td>WNW</td>\n",
              "      <td>0.9</td>\n",
              "      <td>Aotizhongxin</td>\n",
              "    </tr>\n",
              "    <tr>\n",
              "      <th>35061</th>\n",
              "      <td>35062</td>\n",
              "      <td>2017</td>\n",
              "      <td>2</td>\n",
              "      <td>28</td>\n",
              "      <td>21</td>\n",
              "      <td>16.0</td>\n",
              "      <td>37.0</td>\n",
              "      <td>10.0</td>\n",
              "      <td>66.0</td>\n",
              "      <td>700.0</td>\n",
              "      <td>58.0</td>\n",
              "      <td>10.8</td>\n",
              "      <td>1014.2</td>\n",
              "      <td>-13.3</td>\n",
              "      <td>0.0</td>\n",
              "      <td>NW</td>\n",
              "      <td>1.1</td>\n",
              "      <td>Aotizhongxin</td>\n",
              "    </tr>\n",
              "    <tr>\n",
              "      <th>35062</th>\n",
              "      <td>35063</td>\n",
              "      <td>2017</td>\n",
              "      <td>2</td>\n",
              "      <td>28</td>\n",
              "      <td>22</td>\n",
              "      <td>21.0</td>\n",
              "      <td>44.0</td>\n",
              "      <td>12.0</td>\n",
              "      <td>87.0</td>\n",
              "      <td>700.0</td>\n",
              "      <td>35.0</td>\n",
              "      <td>10.5</td>\n",
              "      <td>1014.4</td>\n",
              "      <td>-12.9</td>\n",
              "      <td>0.0</td>\n",
              "      <td>NNW</td>\n",
              "      <td>1.2</td>\n",
              "      <td>Aotizhongxin</td>\n",
              "    </tr>\n",
              "    <tr>\n",
              "      <th>35063</th>\n",
              "      <td>35064</td>\n",
              "      <td>2017</td>\n",
              "      <td>2</td>\n",
              "      <td>28</td>\n",
              "      <td>23</td>\n",
              "      <td>19.0</td>\n",
              "      <td>31.0</td>\n",
              "      <td>10.0</td>\n",
              "      <td>79.0</td>\n",
              "      <td>600.0</td>\n",
              "      <td>42.0</td>\n",
              "      <td>8.6</td>\n",
              "      <td>1014.1</td>\n",
              "      <td>-15.9</td>\n",
              "      <td>0.0</td>\n",
              "      <td>NNE</td>\n",
              "      <td>1.3</td>\n",
              "      <td>Aotizhongxin</td>\n",
              "    </tr>\n",
              "  </tbody>\n",
              "</table>\n",
              "<p>31815 rows × 18 columns</p>\n",
              "</div>"
            ],
            "text/plain": [
              "          No  year  month  day  hour  PM2.5  PM10   SO2   NO2     CO    O3  \\\n",
              "0          1  2013      3    1     0    4.0   4.0   4.0   7.0  300.0  77.0   \n",
              "1          2  2013      3    1     1    8.0   8.0   4.0   7.0  300.0  77.0   \n",
              "2          3  2013      3    1     2    7.0   7.0   5.0  10.0  300.0  73.0   \n",
              "3          4  2013      3    1     3    6.0   6.0  11.0  11.0  300.0  72.0   \n",
              "4          5  2013      3    1     4    3.0   3.0  12.0  12.0  300.0  72.0   \n",
              "...      ...   ...    ...  ...   ...    ...   ...   ...   ...    ...   ...   \n",
              "35059  35060  2017      2   28    19   12.0  29.0   5.0  35.0  400.0  95.0   \n",
              "35060  35061  2017      2   28    20   13.0  37.0   7.0  45.0  500.0  81.0   \n",
              "35061  35062  2017      2   28    21   16.0  37.0  10.0  66.0  700.0  58.0   \n",
              "35062  35063  2017      2   28    22   21.0  44.0  12.0  87.0  700.0  35.0   \n",
              "35063  35064  2017      2   28    23   19.0  31.0  10.0  79.0  600.0  42.0   \n",
              "\n",
              "       TEMP    PRES  DEWP  RAIN   wd  WSPM       station  \n",
              "0      -0.7  1023.0 -18.8   0.0  NNW   4.4  Aotizhongxin  \n",
              "1      -1.1  1023.2 -18.2   0.0    N   4.7  Aotizhongxin  \n",
              "2      -1.1  1023.5 -18.2   0.0  NNW   5.6  Aotizhongxin  \n",
              "3      -1.4  1024.5 -19.4   0.0   NW   3.1  Aotizhongxin  \n",
              "4      -2.0  1025.2 -19.5   0.0    N   2.0  Aotizhongxin  \n",
              "...     ...     ...   ...   ...  ...   ...           ...  \n",
              "35059  12.5  1013.5 -16.2   0.0   NW   2.4  Aotizhongxin  \n",
              "35060  11.6  1013.6 -15.1   0.0  WNW   0.9  Aotizhongxin  \n",
              "35061  10.8  1014.2 -13.3   0.0   NW   1.1  Aotizhongxin  \n",
              "35062  10.5  1014.4 -12.9   0.0  NNW   1.2  Aotizhongxin  \n",
              "35063   8.6  1014.1 -15.9   0.0  NNE   1.3  Aotizhongxin  \n",
              "\n",
              "[31815 rows x 18 columns]"
            ]
          },
          "execution_count": 12,
          "metadata": {},
          "output_type": "execute_result"
        }
      ],
      "source": [
        "# Import file and store it in a data frame\n",
        "df = pd.read_csv('PRSA_Aotizhongxin.csv') # Cambia al nombre del archivo que cargues\n",
        "df.dropna(inplace=True)\n",
        "df\n",
        "# Quedan 31,815 registros despues de eliminar NaN's"
      ]
    },
    {
      "cell_type": "markdown",
      "metadata": {
        "id": "7AnH6VY-W09n"
      },
      "source": [
        "# Part 2: Format data and split it into numpy arrays"
      ]
    },
    {
      "cell_type": "code",
      "execution_count": 13,
      "metadata": {
        "id": "OaRBLIHNdrSN"
      },
      "outputs": [],
      "source": [
        "# AUX function to put categorical data into one-hot encoding format\n",
        "def winddir_to_categorical(winddir):\n",
        "  enc = OneHotEncoder(sparse=False)\n",
        "  WD = enc.fit_transform(winddir)\n",
        "  print(\"== categories:\", enc.categories_, \"==\")\n",
        "  return WD, [item for sublist in enc.categories_ for item in sublist]"
      ]
    },
    {
      "cell_type": "code",
      "execution_count": 14,
      "metadata": {
        "colab": {
          "base_uri": "https://localhost:8080/",
          "height": 661
        },
        "id": "dFhZ5cEGSk2e",
        "outputId": "096d7965-8434-41da-f0e5-4b676d619abf"
      },
      "outputs": [
        {
          "name": "stdout",
          "output_type": "stream",
          "text": [
            "== categories: [array(['E', 'ENE', 'ESE', 'N', 'NE', 'NNE', 'NNW', 'NW', 'S', 'SE', 'SSE',\n",
            "       'SSW', 'SW', 'W', 'WNW', 'WSW'], dtype=object)] ==\n",
            "Input values X with shape (31815, 28). With values\n"
          ]
        },
        {
          "data": {
            "image/png": "[encoded data removed]",
            "text/plain": [
              "<Figure size 800x300 with 1 Axes>"
            ]
          },
          "metadata": {},
          "output_type": "display_data"
        },
        {
          "data": {
            "text/html": [
              "<div>\n",
              "<style scoped>\n",
              "    .dataframe tbody tr th:only-of-type {\n",
              "        vertical-align: middle;\n",
              "    }\n",
              "\n",
              "    .dataframe tbody tr th {\n",
              "        vertical-align: top;\n",
              "    }\n",
              "\n",
              "    .dataframe thead th {\n",
              "        text-align: right;\n",
              "    }\n",
              "</style>\n",
              "<table border=\"1\" class=\"dataframe\">\n",
              "  <thead>\n",
              "    <tr style=\"text-align: right;\">\n",
              "      <th></th>\n",
              "      <th>0</th>\n",
              "      <th>1</th>\n",
              "      <th>2</th>\n",
              "      <th>3</th>\n",
              "      <th>4</th>\n",
              "      <th>5</th>\n",
              "      <th>6</th>\n",
              "      <th>7</th>\n",
              "      <th>8</th>\n",
              "      <th>9</th>\n",
              "      <th>...</th>\n",
              "      <th>18</th>\n",
              "      <th>19</th>\n",
              "      <th>20</th>\n",
              "      <th>21</th>\n",
              "      <th>22</th>\n",
              "      <th>23</th>\n",
              "      <th>24</th>\n",
              "      <th>25</th>\n",
              "      <th>26</th>\n",
              "      <th>27</th>\n",
              "    </tr>\n",
              "  </thead>\n",
              "  <tbody>\n",
              "    <tr>\n",
              "      <th>count</th>\n",
              "      <td>31815.000000</td>\n",
              "      <td>31815.000000</td>\n",
              "      <td>31815.000000</td>\n",
              "      <td>31815.000000</td>\n",
              "      <td>31815.000000</td>\n",
              "      <td>31815.000000</td>\n",
              "      <td>31815.000000</td>\n",
              "      <td>31815.000000</td>\n",
              "      <td>31815.000000</td>\n",
              "      <td>31815.000000</td>\n",
              "      <td>...</td>\n",
              "      <td>31815.000000</td>\n",
              "      <td>31815.000000</td>\n",
              "      <td>31815.000000</td>\n",
              "      <td>31815.000000</td>\n",
              "      <td>31815.000000</td>\n",
              "      <td>31815.000000</td>\n",
              "      <td>31815.000000</td>\n",
              "      <td>31815.000000</td>\n",
              "      <td>31815.0000</td>\n",
              "      <td>31815.000000</td>\n",
              "    </tr>\n",
              "    <tr>\n",
              "      <th>mean</th>\n",
              "      <td>6.401886</td>\n",
              "      <td>15.578564</td>\n",
              "      <td>11.624800</td>\n",
              "      <td>17.167205</td>\n",
              "      <td>58.976332</td>\n",
              "      <td>1256.574729</td>\n",
              "      <td>56.240938</td>\n",
              "      <td>13.775611</td>\n",
              "      <td>1011.800385</td>\n",
              "      <td>3.241106</td>\n",
              "      <td>...</td>\n",
              "      <td>0.044507</td>\n",
              "      <td>0.053748</td>\n",
              "      <td>0.038158</td>\n",
              "      <td>0.039101</td>\n",
              "      <td>0.029672</td>\n",
              "      <td>0.060349</td>\n",
              "      <td>0.095772</td>\n",
              "      <td>0.033601</td>\n",
              "      <td>0.0314</td>\n",
              "      <td>0.062706</td>\n",
              "    </tr>\n",
              "    <tr>\n",
              "      <th>std</th>\n",
              "      <td>3.416847</td>\n",
              "      <td>8.794954</td>\n",
              "      <td>6.926874</td>\n",
              "      <td>22.760801</td>\n",
              "      <td>37.061384</td>\n",
              "      <td>1223.301208</td>\n",
              "      <td>57.834314</td>\n",
              "      <td>11.369035</td>\n",
              "      <td>10.338869</td>\n",
              "      <td>13.667863</td>\n",
              "      <td>...</td>\n",
              "      <td>0.206223</td>\n",
              "      <td>0.225524</td>\n",
              "      <td>0.191581</td>\n",
              "      <td>0.193838</td>\n",
              "      <td>0.169682</td>\n",
              "      <td>0.238136</td>\n",
              "      <td>0.294284</td>\n",
              "      <td>0.180201</td>\n",
              "      <td>0.1744</td>\n",
              "      <td>0.242438</td>\n",
              "    </tr>\n",
              "    <tr>\n",
              "      <th>min</th>\n",
              "      <td>1.000000</td>\n",
              "      <td>1.000000</td>\n",
              "      <td>0.000000</td>\n",
              "      <td>0.571200</td>\n",
              "      <td>2.000000</td>\n",
              "      <td>100.000000</td>\n",
              "      <td>0.214200</td>\n",
              "      <td>-16.800000</td>\n",
              "      <td>985.900000</td>\n",
              "      <td>-35.300000</td>\n",
              "      <td>...</td>\n",
              "      <td>0.000000</td>\n",
              "      <td>0.000000</td>\n",
              "      <td>0.000000</td>\n",
              "      <td>0.000000</td>\n",
              "      <td>0.000000</td>\n",
              "      <td>0.000000</td>\n",
              "      <td>0.000000</td>\n",
              "      <td>0.000000</td>\n",
              "      <td>0.0000</td>\n",
              "      <td>0.000000</td>\n",
              "    </tr>\n",
              "    <tr>\n",
              "      <th>25%</th>\n",
              "      <td>3.000000</td>\n",
              "      <td>8.000000</td>\n",
              "      <td>6.000000</td>\n",
              "      <td>3.000000</td>\n",
              "      <td>30.000000</td>\n",
              "      <td>500.000000</td>\n",
              "      <td>8.000000</td>\n",
              "      <td>3.400000</td>\n",
              "      <td>1003.300000</td>\n",
              "      <td>-8.000000</td>\n",
              "      <td>...</td>\n",
              "      <td>0.000000</td>\n",
              "      <td>0.000000</td>\n",
              "      <td>0.000000</td>\n",
              "      <td>0.000000</td>\n",
              "      <td>0.000000</td>\n",
              "      <td>0.000000</td>\n",
              "      <td>0.000000</td>\n",
              "      <td>0.000000</td>\n",
              "      <td>0.0000</td>\n",
              "      <td>0.000000</td>\n",
              "    </tr>\n",
              "    <tr>\n",
              "      <th>50%</th>\n",
              "      <td>6.000000</td>\n",
              "      <td>15.000000</td>\n",
              "      <td>12.000000</td>\n",
              "      <td>8.000000</td>\n",
              "      <td>53.000000</td>\n",
              "      <td>800.000000</td>\n",
              "      <td>42.000000</td>\n",
              "      <td>14.800000</td>\n",
              "      <td>1011.200000</td>\n",
              "      <td>4.000000</td>\n",
              "      <td>...</td>\n",
              "      <td>0.000000</td>\n",
              "      <td>0.000000</td>\n",
              "      <td>0.000000</td>\n",
              "      <td>0.000000</td>\n",
              "      <td>0.000000</td>\n",
              "      <td>0.000000</td>\n",
              "      <td>0.000000</td>\n",
              "      <td>0.000000</td>\n",
              "      <td>0.0000</td>\n",
              "      <td>0.000000</td>\n",
              "    </tr>\n",
              "    <tr>\n",
              "      <th>75%</th>\n",
              "      <td>9.000000</td>\n",
              "      <td>23.000000</td>\n",
              "      <td>18.000000</td>\n",
              "      <td>21.000000</td>\n",
              "      <td>82.000000</td>\n",
              "      <td>1500.000000</td>\n",
              "      <td>82.000000</td>\n",
              "      <td>23.400000</td>\n",
              "      <td>1020.000000</td>\n",
              "      <td>15.700000</td>\n",
              "      <td>...</td>\n",
              "      <td>0.000000</td>\n",
              "      <td>0.000000</td>\n",
              "      <td>0.000000</td>\n",
              "      <td>0.000000</td>\n",
              "      <td>0.000000</td>\n",
              "      <td>0.000000</td>\n",
              "      <td>0.000000</td>\n",
              "      <td>0.000000</td>\n",
              "      <td>0.0000</td>\n",
              "      <td>0.000000</td>\n",
              "    </tr>\n",
              "    <tr>\n",
              "      <th>max</th>\n",
              "      <td>12.000000</td>\n",
              "      <td>31.000000</td>\n",
              "      <td>23.000000</td>\n",
              "      <td>229.000000</td>\n",
              "      <td>290.000000</td>\n",
              "      <td>10000.000000</td>\n",
              "      <td>423.000000</td>\n",
              "      <td>40.500000</td>\n",
              "      <td>1042.000000</td>\n",
              "      <td>28.500000</td>\n",
              "      <td>...</td>\n",
              "      <td>1.000000</td>\n",
              "      <td>1.000000</td>\n",
              "      <td>1.000000</td>\n",
              "      <td>1.000000</td>\n",
              "      <td>1.000000</td>\n",
              "      <td>1.000000</td>\n",
              "      <td>1.000000</td>\n",
              "      <td>1.000000</td>\n",
              "      <td>1.0000</td>\n",
              "      <td>1.000000</td>\n",
              "    </tr>\n",
              "  </tbody>\n",
              "</table>\n",
              "<p>8 rows × 28 columns</p>\n",
              "</div>"
            ],
            "text/plain": [
              "                 0             1             2             3             4   \\\n",
              "count  31815.000000  31815.000000  31815.000000  31815.000000  31815.000000   \n",
              "mean       6.401886     15.578564     11.624800     17.167205     58.976332   \n",
              "std        3.416847      8.794954      6.926874     22.760801     37.061384   \n",
              "min        1.000000      1.000000      0.000000      0.571200      2.000000   \n",
              "25%        3.000000      8.000000      6.000000      3.000000     30.000000   \n",
              "50%        6.000000     15.000000     12.000000      8.000000     53.000000   \n",
              "75%        9.000000     23.000000     18.000000     21.000000     82.000000   \n",
              "max       12.000000     31.000000     23.000000    229.000000    290.000000   \n",
              "\n",
              "                 5             6             7             8             9   \\\n",
              "count  31815.000000  31815.000000  31815.000000  31815.000000  31815.000000   \n",
              "mean    1256.574729     56.240938     13.775611   1011.800385      3.241106   \n",
              "std     1223.301208     57.834314     11.369035     10.338869     13.667863   \n",
              "min      100.000000      0.214200    -16.800000    985.900000    -35.300000   \n",
              "25%      500.000000      8.000000      3.400000   1003.300000     -8.000000   \n",
              "50%      800.000000     42.000000     14.800000   1011.200000      4.000000   \n",
              "75%     1500.000000     82.000000     23.400000   1020.000000     15.700000   \n",
              "max    10000.000000    423.000000     40.500000   1042.000000     28.500000   \n",
              "\n",
              "       ...            18            19            20            21  \\\n",
              "count  ...  31815.000000  31815.000000  31815.000000  31815.000000   \n",
              "mean   ...      0.044507      0.053748      0.038158      0.039101   \n",
              "std    ...      0.206223      0.225524      0.191581      0.193838   \n",
              "min    ...      0.000000      0.000000      0.000000      0.000000   \n",
              "25%    ...      0.000000      0.000000      0.000000      0.000000   \n",
              "50%    ...      0.000000      0.000000      0.000000      0.000000   \n",
              "75%    ...      0.000000      0.000000      0.000000      0.000000   \n",
              "max    ...      1.000000      1.000000      1.000000      1.000000   \n",
              "\n",
              "                 22            23            24            25          26  \\\n",
              "count  31815.000000  31815.000000  31815.000000  31815.000000  31815.0000   \n",
              "mean       0.029672      0.060349      0.095772      0.033601      0.0314   \n",
              "std        0.169682      0.238136      0.294284      0.180201      0.1744   \n",
              "min        0.000000      0.000000      0.000000      0.000000      0.0000   \n",
              "25%        0.000000      0.000000      0.000000      0.000000      0.0000   \n",
              "50%        0.000000      0.000000      0.000000      0.000000      0.0000   \n",
              "75%        0.000000      0.000000      0.000000      0.000000      0.0000   \n",
              "max        1.000000      1.000000      1.000000      1.000000      1.0000   \n",
              "\n",
              "                 27  \n",
              "count  31815.000000  \n",
              "mean       0.062706  \n",
              "std        0.242438  \n",
              "min        0.000000  \n",
              "25%        0.000000  \n",
              "50%        0.000000  \n",
              "75%        0.000000  \n",
              "max        1.000000  \n",
              "\n",
              "[8 rows x 28 columns]"
            ]
          },
          "execution_count": 14,
          "metadata": {},
          "output_type": "execute_result"
        }
      ],
      "source": [
        "# Extract input features and convert them to a numpy array\n",
        "labels = ['month',\t'day',\t'hour', 'SO2',\t'NO2',\t'CO',\t'O3', 'TEMP', 'PRES', 'DEWP', 'RAIN', 'WSPM' ]\n",
        "X = df[labels].to_numpy()\n",
        "WD, categories = winddir_to_categorical(df[['wd']])\n",
        "X = np.concatenate((X, WD), axis=1)\n",
        "\n",
        "print(f\"Input values X with shape {X.shape}. With values\")\n",
        "\n",
        "plt.figure(figsize=(8, 3))\n",
        "plt.boxplot(X)\n",
        "plt.xticks(range(1, 29), labels + categories, rotation=90)\n",
        "plt.show()\n",
        "\n",
        "pd.DataFrame(X).describe()"
      ]
    },
    {
      "cell_type": "code",
      "execution_count": 15,
      "metadata": {
        "colab": {
          "base_uri": "https://localhost:8080/",
          "height": 515
        },
        "id": "dA2VIaEEHGwA",
        "outputId": "276e2f3e-30d8-4a94-a5e7-488fa7123fb5"
      },
      "outputs": [
        {
          "data": {
            "image/png": "[encoded data removed]",
            "text/plain": [
              "<Figure size 800x300 with 1 Axes>"
            ]
          },
          "metadata": {},
          "output_type": "display_data"
        },
        {
          "data": {
            "text/html": [
              "<div>\n",
              "<style scoped>\n",
              "    .dataframe tbody tr th:only-of-type {\n",
              "        vertical-align: middle;\n",
              "    }\n",
              "\n",
              "    .dataframe tbody tr th {\n",
              "        vertical-align: top;\n",
              "    }\n",
              "\n",
              "    .dataframe thead th {\n",
              "        text-align: right;\n",
              "    }\n",
              "</style>\n",
              "<table border=\"1\" class=\"dataframe\">\n",
              "  <thead>\n",
              "    <tr style=\"text-align: right;\">\n",
              "      <th></th>\n",
              "      <th>0</th>\n",
              "      <th>1</th>\n",
              "    </tr>\n",
              "  </thead>\n",
              "  <tbody>\n",
              "    <tr>\n",
              "      <th>count</th>\n",
              "      <td>31815.00000</td>\n",
              "      <td>31815.000000</td>\n",
              "    </tr>\n",
              "    <tr>\n",
              "      <th>mean</th>\n",
              "      <td>81.86363</td>\n",
              "      <td>109.120685</td>\n",
              "    </tr>\n",
              "    <tr>\n",
              "      <th>std</th>\n",
              "      <td>80.44949</td>\n",
              "      <td>93.718017</td>\n",
              "    </tr>\n",
              "    <tr>\n",
              "      <th>min</th>\n",
              "      <td>3.00000</td>\n",
              "      <td>2.000000</td>\n",
              "    </tr>\n",
              "    <tr>\n",
              "      <th>25%</th>\n",
              "      <td>22.00000</td>\n",
              "      <td>37.000000</td>\n",
              "    </tr>\n",
              "    <tr>\n",
              "      <th>50%</th>\n",
              "      <td>58.00000</td>\n",
              "      <td>86.000000</td>\n",
              "    </tr>\n",
              "    <tr>\n",
              "      <th>75%</th>\n",
              "      <td>114.00000</td>\n",
              "      <td>154.000000</td>\n",
              "    </tr>\n",
              "    <tr>\n",
              "      <th>max</th>\n",
              "      <td>713.00000</td>\n",
              "      <td>948.000000</td>\n",
              "    </tr>\n",
              "  </tbody>\n",
              "</table>\n",
              "</div>"
            ],
            "text/plain": [
              "                 0             1\n",
              "count  31815.00000  31815.000000\n",
              "mean      81.86363    109.120685\n",
              "std       80.44949     93.718017\n",
              "min        3.00000      2.000000\n",
              "25%       22.00000     37.000000\n",
              "50%       58.00000     86.000000\n",
              "75%      114.00000    154.000000\n",
              "max      713.00000    948.000000"
            ]
          },
          "execution_count": 15,
          "metadata": {},
          "output_type": "execute_result"
        }
      ],
      "source": [
        "# Extract output features and convert them to a numpy array\n",
        "Y = df[['PM2.5', 'PM10']].to_numpy()\n",
        "\n",
        "plt.figure(figsize=(8, 3))\n",
        "plt.boxplot(Y)\n",
        "plt.xticks(range(1, 3), ['PM2.5', 'PM10'], rotation=90)\n",
        "plt.show()\n",
        "\n",
        "pd.DataFrame(Y).describe()"
      ]
    },
    {
      "cell_type": "code",
      "execution_count": 16,
      "metadata": {
        "colab": {
          "base_uri": "https://localhost:8080/"
        },
        "id": "zAKGr2d4W_OU",
        "outputId": "72845abb-749a-4836-8a71-8ba26e1d5de8"
      },
      "outputs": [
        {
          "name": "stdout",
          "output_type": "stream",
          "text": [
            "(28633, 28)\n",
            "(28633, 2)\n",
            "(3182, 28)\n",
            "(3182, 2)\n"
          ]
        }
      ],
      "source": [
        "# Split data into train+val and test sets\n",
        "x_train, x_test, y_train, y_test = train_test_split(X, Y, test_size=0.1)\n",
        "\n",
        "print(x_train.shape)\n",
        "print(y_train.shape)\n",
        "print(x_test.shape)\n",
        "print(y_test.shape)"
      ]
    },
    {
      "cell_type": "code",
      "execution_count": 17,
      "metadata": {
        "colab": {
          "base_uri": "https://localhost:8080/",
          "height": 515
        },
        "id": "d4nkvcV3MmC9",
        "outputId": "a76f3dad-adf0-4f0c-8f17-7e68ea1eb38e"
      },
      "outputs": [
        {
          "data": {
            "image/png": "[encoded data removed]",
            "text/plain": [
              "<Figure size 1200x300 with 2 Axes>"
            ]
          },
          "metadata": {},
          "output_type": "display_data"
        },
        {
          "data": {
            "text/html": [
              "<div>\n",
              "<style scoped>\n",
              "    .dataframe tbody tr th:only-of-type {\n",
              "        vertical-align: middle;\n",
              "    }\n",
              "\n",
              "    .dataframe tbody tr th {\n",
              "        vertical-align: top;\n",
              "    }\n",
              "\n",
              "    .dataframe thead th {\n",
              "        text-align: right;\n",
              "    }\n",
              "</style>\n",
              "<table border=\"1\" class=\"dataframe\">\n",
              "  <thead>\n",
              "    <tr style=\"text-align: right;\">\n",
              "      <th></th>\n",
              "      <th>0</th>\n",
              "      <th>1</th>\n",
              "    </tr>\n",
              "  </thead>\n",
              "  <tbody>\n",
              "    <tr>\n",
              "      <th>count</th>\n",
              "      <td>28633.000000</td>\n",
              "      <td>28633.000000</td>\n",
              "    </tr>\n",
              "    <tr>\n",
              "      <th>mean</th>\n",
              "      <td>0.260636</td>\n",
              "      <td>0.200925</td>\n",
              "    </tr>\n",
              "    <tr>\n",
              "      <th>std</th>\n",
              "      <td>0.875615</td>\n",
              "      <td>0.808977</td>\n",
              "    </tr>\n",
              "    <tr>\n",
              "      <th>min</th>\n",
              "      <td>-0.597826</td>\n",
              "      <td>-0.724138</td>\n",
              "    </tr>\n",
              "    <tr>\n",
              "      <th>25%</th>\n",
              "      <td>-0.391304</td>\n",
              "      <td>-0.413793</td>\n",
              "    </tr>\n",
              "    <tr>\n",
              "      <th>50%</th>\n",
              "      <td>0.000000</td>\n",
              "      <td>0.000000</td>\n",
              "    </tr>\n",
              "    <tr>\n",
              "      <th>75%</th>\n",
              "      <td>0.608696</td>\n",
              "      <td>0.586207</td>\n",
              "    </tr>\n",
              "    <tr>\n",
              "      <th>max</th>\n",
              "      <td>7.119565</td>\n",
              "      <td>7.431034</td>\n",
              "    </tr>\n",
              "  </tbody>\n",
              "</table>\n",
              "</div>"
            ],
            "text/plain": [
              "                  0             1\n",
              "count  28633.000000  28633.000000\n",
              "mean       0.260636      0.200925\n",
              "std        0.875615      0.808977\n",
              "min       -0.597826     -0.724138\n",
              "25%       -0.391304     -0.413793\n",
              "50%        0.000000      0.000000\n",
              "75%        0.608696      0.586207\n",
              "max        7.119565      7.431034"
            ]
          },
          "execution_count": 17,
          "metadata": {},
          "output_type": "execute_result"
        }
      ],
      "source": [
        "# Normalize (zero-center) and standardize (scale) output data\n",
        "scalerY = RobustScaler()\n",
        "y_train = scalerY.fit_transform(y_train)\n",
        "y_test = scalerY.transform(y_test)\n",
        "\n",
        "plt.figure(figsize=(12, 3))\n",
        "plt.subplot(1, 2, 1)\n",
        "plt.boxplot(y_train)\n",
        "plt.xticks(range(1, 3), ['PM2.5', 'PM10'], rotation=90)\n",
        "plt.subplot(1, 2, 2)\n",
        "plt.boxplot(y_test)\n",
        "plt.xticks(range(1, 3), ['PM2.5', 'PM10'], rotation=90)\n",
        "plt.show()\n",
        "\n",
        "pd.DataFrame(y_train).describe()"
      ]
    },
    {
      "cell_type": "code",
      "execution_count": 18,
      "metadata": {
        "colab": {
          "base_uri": "https://localhost:8080/",
          "height": 295
        },
        "id": "7dQRDsU4znyI",
        "outputId": "b0c52380-1dac-430a-a015-1838ef4e8c2f"
      },
      "outputs": [
        {
          "data": {
            "image/png": "[encoded data removed]",
            "text/plain": [
              "<Figure size 640x480 with 1 Axes>"
            ]
          },
          "metadata": {},
          "output_type": "display_data"
        }
      ],
      "source": [
        "# Plot y_test\n",
        "# Esta gráfica es para ver sólo si los sets de entrenamiento y test cubren las mismas\n",
        "# áreas (¿tienen la misma distribución?). No se espera que los puntos coincidan ya que\n",
        "# son dos sets distintos.\n",
        "plt.scatter(y_train[:, 0], y_train[:, 1], c='r', s=2, label='y_train')\n",
        "plt.scatter(y_test[:, 0], y_test[:, 1], c='b', s=2, label='y_test')\n",
        "\n",
        "plt.legend()\n",
        "plt.grid(True)\n",
        "plt.xlabel('PM2.5')\n",
        "plt.ylabel('PM10')\n",
        "plt.title('Outputs')\n",
        "plt.show()"
      ]
    },
    {
      "cell_type": "markdown",
      "metadata": {
        "id": "dreChfyNYqsB"
      },
      "source": [
        "# Part 3: Create DNN models and train them"
      ]
    },
    {
      "attachments": {},
      "cell_type": "markdown",
      "metadata": {
        "id": "3vaB5OGd084j"
      },
      "source": [
        "[https://www.youtube.com/watch?v=Z9lQ1hzJFe8](https://www.youtube.com/watch?v=Z9lQ1hzJFe8)\n",
        "\n",
        "[https://www.youtube.com/watch?v=Lx16T9cl5ng](https://www.youtube.com/watch?v=Lx16T9cl5ng)\n",
        "\n",
        "[https://github.com/krishnaik06/Keras-Tuner/blob/main/Hidden%20Layers%20And%20Hidden%20Neurons.ipynb](https://github.com/krishnaik06/Keras-Tuner/blob/main/Hidden%20Layers%20And%20Hidden%20Neurons.ipynb)\n",
        "\n",
        "[https://www.tensorflow.org/tutorials/keras/keras_tuner](https://www.tensorflow.org/tutorials/keras/keras_tuner)\n",
        "\n",
        "[https://keras.io/keras_tuner/](https://keras.io/keras_tuner/)\n",
        "\n",
        "[https://keras.io/guides/keras_tuner/getting_started/](https://keras.io/guides/keras_tuner/getting_started/)\n",
        "\n",
        "[https://blog.tensorflow.org/2020/01/hyperparameter-tuning-with-keras-tuner.html?_gl=1*1kyglir*_ga*NDE3NTA3MzMzLjE2Njg1MzgxMDc.*_ga_W0YLR4190T*MTY3NDQ5MjM3OC42LjEuMTY3NDQ5MjY3MC4wLjAuMA](https://blog.tensorflow.org/2020/01/hyperparameter-tuning-with-keras-tuner.html?_gl=1*1kyglir*_ga*NDE3NTA3MzMzLjE2Njg1MzgxMDc.*_ga_W0YLR4190T*MTY3NDQ5MjM3OC42LjEuMTY3NDQ5MjY3MC4wLjAuMA)\n",
        "\n",
        "[https://www.tensorflow.org/tensorboard/hyperparameter_tuning_with_hparams](https://www.tensorflow.org/tensorboard/hyperparameter_tuning_with_hparams)\n",
        "\n",
        "[https://medium.com/swlh/hyperparameter-tuning-in-keras-tensorflow-2-with-keras-tuner-randomsearch-hyperband-3e212647778f](https://medium.com/swlh/hyperparameter-tuning-in-keras-tensorflow-2-with-keras-tuner-randomsearch-hyperband-3e212647778f)"
      ]
    },
    {
      "attachments": {},
      "cell_type": "markdown",
      "metadata": {},
      "source": [
        "### To install Keras-tuner:\n",
        "\n",
        "`!pip install -q -U keras-tuner`\n",
        "\n",
        "`!conda install -c conda-forge keras-tuner`"
      ]
    },
    {
      "cell_type": "code",
      "execution_count": 19,
      "metadata": {
        "id": "JO90QIV_HZyX"
      },
      "outputs": [
        {
          "name": "stderr",
          "output_type": "stream",
          "text": [
            "2023-02-12 12:52:12.714284: I tensorflow/core/platform/cpu_feature_guard.cc:193] This TensorFlow binary is optimized with oneAPI Deep Neural Network Library (oneDNN) to use the following CPU instructions in performance-critical operations:  SSE4.1 SSE4.2\n",
            "To enable them in other operations, rebuild TensorFlow with the appropriate compiler flags.\n"
          ]
        }
      ],
      "source": [
        "# tensorflow imports\n",
        "import tensorflow as tf\n",
        "from tensorflow.keras.models import Sequential\n",
        "from tensorflow.keras.layers import InputLayer, Dense\n",
        "from tensorflow.keras.optimizers import Adam\n",
        "\n",
        "import keras_tuner as kt\n",
        "from keras_tuner.tuners import RandomSearch"
      ]
    },
    {
      "cell_type": "markdown",
      "metadata": {
        "id": "Xx9N-n_K4_3k"
      },
      "source": [
        "# Part 3.1: DNN with custom functions"
      ]
    },
    {
      "cell_type": "code",
      "execution_count": 20,
      "metadata": {
        "colab": {
          "base_uri": "https://localhost:8080/"
        },
        "id": "ENX7lCg3Ido4",
        "outputId": "af708052-7c70-4f6a-9e51-e7a5b3c10dd5"
      },
      "outputs": [
        {
          "name": "stdout",
          "output_type": "stream",
          "text": [
            "Model: \"sequential\"\n",
            "_________________________________________________________________\n",
            " Layer (type)                Output Shape              Param #   \n",
            "=================================================================\n",
            " dense (Dense)               (None, 1024)              29696     \n",
            "                                                                 \n",
            " dense_1 (Dense)             (None, 512)               524800    \n",
            "                                                                 \n",
            " dense_2 (Dense)             (None, 256)               131328    \n",
            "                                                                 \n",
            " OUTPUT (Dense)              (None, 2)                 514       \n",
            "                                                                 \n",
            "=================================================================\n",
            "Total params: 686,338\n",
            "Trainable params: 686,338\n",
            "Non-trainable params: 0\n",
            "_________________________________________________________________\n"
          ]
        },
        {
          "name": "stderr",
          "output_type": "stream",
          "text": [
            "2023-02-12 12:52:46.213196: I tensorflow/core/platform/cpu_feature_guard.cc:193] This TensorFlow binary is optimized with oneAPI Deep Neural Network Library (oneDNN) to use the following CPU instructions in performance-critical operations:  SSE4.1 SSE4.2\n",
            "To enable them in other operations, rebuild TensorFlow with the appropriate compiler flags.\n"
          ]
        }
      ],
      "source": [
        "# Create a Deep Network\n",
        "DNN = Sequential()\n",
        "DNN.add(InputLayer(input_shape=x_train.shape[1:], name='INPUT'))\n",
        "\n",
        "DNN.add(Dense(units=1024, activation='relu'))\n",
        "DNN.add(Dense(units=512, activation='relu'))\n",
        "DNN.add(Dense(units=256, activation='relu'))\n",
        "\n",
        "DNN.add(Dense(units=y_train.shape[1], activation='linear', name='OUTPUT'))\n",
        "\n",
        "DNN.summary()"
      ]
    },
    {
      "cell_type": "code",
      "execution_count": 24,
      "metadata": {
        "id": "KWzdmn_gJDBW"
      },
      "outputs": [],
      "source": [
        "def r_square(y, y_hat):\n",
        "  \"\"\" Define R square loss, to use it as metric during training\n",
        "  \"\"\"\n",
        "  residual = tf.reduce_sum(tf.square(tf.subtract(y, y_hat)))\n",
        "  total = tf.reduce_sum(tf.square(tf.subtract(y, tf.reduce_mean(y))))\n",
        "  return tf.subtract(1.0, residual / total)"
      ]
    },
    {
      "cell_type": "code",
      "execution_count": 25,
      "metadata": {
        "id": "fZ_ThBsBet0H"
      },
      "outputs": [],
      "source": [
        "def my_mse(y, y_hat):\n",
        "  \"\"\" Define MSE loss, to use it as loss function\n",
        "  \"\"\"\n",
        "  return tf.reduce_mean(tf.square(y - y_hat))"
      ]
    },
    {
      "attachments": {},
      "cell_type": "markdown",
      "metadata": {},
      "source": [
        "### Define training parameters\n",
        "### Option 1: Usar un optimizador predefinido, pero con hyperparams no estándar\n",
        "\n",
        "`from tensorflow.keras.optimizers import SGD`\n",
        "\n",
        "`sgd = SGD(learning_rate=0.02, momentum=0.6)`\n",
        "\n",
        "`DNN.compile(optimizer=sgd, loss='mse')`\n",
        "\n",
        "### Option 2: Usar optimizador predefinido, con una pérdida custom, e incluir otras métricas de monitoreo"
      ]
    },
    {
      "cell_type": "code",
      "execution_count": 27,
      "metadata": {
        "id": "Y8TlQWPOVfxw"
      },
      "outputs": [],
      "source": [
        "DNN.compile(optimizer='adam', loss=my_mse, metrics=['mape', r_square])\n",
        "\n",
        "# Try with different optimizers\n",
        "#DNN.compile(optimizer=???, loss='mse')"
      ]
    },
    {
      "cell_type": "code",
      "execution_count": 28,
      "metadata": {
        "colab": {
          "base_uri": "https://localhost:8080/"
        },
        "id": "wGzdI7gJMYRt",
        "outputId": "5ba892f2-7613-4c9c-ea95-cc1dfea527ef"
      },
      "outputs": [
        {
          "name": "stdout",
          "output_type": "stream",
          "text": [
            "Epoch 1/30\n",
            "202/202 [==============================] - 2s 7ms/step - loss: 645.0300 - mape: 17281422.0000 - r_square: -1014.3657 - val_loss: 1.4894 - val_mape: 5112472.5000 - val_r_square: -1.2085\n",
            "Epoch 2/30\n",
            "202/202 [==============================] - 1s 6ms/step - loss: 2.1021 - mape: 3228620.5000 - r_square: -2.0498 - val_loss: 0.3663 - val_mape: 2009223.6250 - val_r_square: 0.4802\n",
            "Epoch 3/30\n",
            "202/202 [==============================] - 1s 6ms/step - loss: 7.3881 - mape: 5571112.0000 - r_square: -9.3002 - val_loss: 1.5686 - val_mape: 4590369.5000 - val_r_square: -1.3090\n",
            "Epoch 4/30\n",
            "202/202 [==============================] - 1s 6ms/step - loss: 0.4076 - mape: 1733862.6250 - r_square: 0.4160 - val_loss: 0.4344 - val_mape: 1371123.2500 - val_r_square: 0.4109\n",
            "Epoch 5/30\n",
            "202/202 [==============================] - 1s 6ms/step - loss: 0.3385 - mape: 1619631.0000 - r_square: 0.5192 - val_loss: 0.3451 - val_mape: 1478171.7500 - val_r_square: 0.5158\n",
            "Epoch 6/30\n",
            "202/202 [==============================] - 1s 6ms/step - loss: 0.7792 - mape: 2307112.7500 - r_square: -0.1798 - val_loss: 0.5612 - val_mape: 2536438.2500 - val_r_square: 0.1941\n",
            "Epoch 7/30\n",
            "202/202 [==============================] - 1s 6ms/step - loss: 0.9996 - mape: 2508980.2500 - r_square: -0.4594 - val_loss: 1.3077 - val_mape: 2517605.2500 - val_r_square: -0.8433\n",
            "Epoch 8/30\n",
            "202/202 [==============================] - 1s 6ms/step - loss: 2.1600 - mape: 3600367.7500 - r_square: -2.0979 - val_loss: 0.3497 - val_mape: 1532062.2500 - val_r_square: 0.5050\n",
            "Epoch 9/30\n",
            "202/202 [==============================] - 1s 7ms/step - loss: 1.1032 - mape: 2585245.5000 - r_square: -0.6576 - val_loss: 0.2546 - val_mape: 1323326.8750 - val_r_square: 0.6504\n",
            "Epoch 10/30\n",
            "202/202 [==============================] - 1s 6ms/step - loss: 0.4347 - mape: 1826276.2500 - r_square: 0.3730 - val_loss: 1.0276 - val_mape: 2412865.5000 - val_r_square: -0.4350\n",
            "Epoch 11/30\n",
            "202/202 [==============================] - 1s 6ms/step - loss: 0.8469 - mape: 2373599.0000 - r_square: -0.1972 - val_loss: 1.4060 - val_mape: 2737027.7500 - val_r_square: -1.0224\n",
            "Epoch 12/30\n",
            "202/202 [==============================] - 1s 6ms/step - loss: 1.0108 - mape: 2610567.0000 - r_square: -0.4786 - val_loss: 0.2610 - val_mape: 1544269.0000 - val_r_square: 0.6446\n",
            "Epoch 13/30\n",
            "202/202 [==============================] - 1s 6ms/step - loss: 1.1013 - mape: 2695577.5000 - r_square: -0.6057 - val_loss: 4.7251 - val_mape: 6918629.0000 - val_r_square: -5.7447\n",
            "Epoch 14/30\n",
            "202/202 [==============================] - 1s 6ms/step - loss: 0.8511 - mape: 2121167.2500 - r_square: -0.2247 - val_loss: 0.2639 - val_mape: 1129541.5000 - val_r_square: 0.6393\n",
            "Epoch 15/30\n",
            "202/202 [==============================] - 1s 7ms/step - loss: 1.1819 - mape: 2434686.2500 - r_square: -0.7192 - val_loss: 1.5931 - val_mape: 3921980.7500 - val_r_square: -1.3628\n",
            "Epoch 16/30\n",
            "202/202 [==============================] - 1s 6ms/step - loss: 0.6109 - mape: 2059464.0000 - r_square: 0.1063 - val_loss: 0.6404 - val_mape: 1880281.7500 - val_r_square: 0.1205\n",
            "Epoch 17/30\n",
            "202/202 [==============================] - 1s 6ms/step - loss: 0.4628 - mape: 1758826.1250 - r_square: 0.3301 - val_loss: 0.2732 - val_mape: 1514173.3750 - val_r_square: 0.6172\n",
            "Epoch 18/30\n",
            "202/202 [==============================] - 1s 6ms/step - loss: 0.5112 - mape: 1925564.6250 - r_square: 0.2577 - val_loss: 1.4113 - val_mape: 4474926.0000 - val_r_square: -1.0351\n",
            "Epoch 19/30\n",
            "202/202 [==============================] - 1s 6ms/step - loss: 0.5705 - mape: 2058585.6250 - r_square: 0.1674 - val_loss: 0.6836 - val_mape: 2832307.5000 - val_r_square: 0.0407\n",
            "Epoch 20/30\n",
            "202/202 [==============================] - 1s 6ms/step - loss: 1.2085 - mape: 2411198.0000 - r_square: -0.7412 - val_loss: 0.4200 - val_mape: 2611433.7500 - val_r_square: 0.3942\n",
            "Epoch 21/30\n",
            "202/202 [==============================] - 1s 6ms/step - loss: 0.2771 - mape: 1481935.0000 - r_square: 0.6019 - val_loss: 0.3158 - val_mape: 1007496.1250 - val_r_square: 0.5638\n",
            "Epoch 22/30\n",
            "202/202 [==============================] - 1s 6ms/step - loss: 0.3067 - mape: 1552859.8750 - r_square: 0.5611 - val_loss: 0.2758 - val_mape: 1274318.2500 - val_r_square: 0.6213\n",
            "Epoch 23/30\n",
            "202/202 [==============================] - 1s 6ms/step - loss: 0.2745 - mape: 1410701.1250 - r_square: 0.6084 - val_loss: 0.2822 - val_mape: 1222811.5000 - val_r_square: 0.6212\n",
            "Epoch 24/30\n",
            "202/202 [==============================] - 1s 6ms/step - loss: 0.2805 - mape: 1457737.1250 - r_square: 0.5990 - val_loss: 0.2843 - val_mape: 1297144.0000 - val_r_square: 0.6108\n",
            "Epoch 25/30\n",
            "202/202 [==============================] - 1s 6ms/step - loss: 0.3850 - mape: 1673075.7500 - r_square: 0.4567 - val_loss: 0.2384 - val_mape: 1148402.5000 - val_r_square: 0.6782\n",
            "Epoch 26/30\n",
            "202/202 [==============================] - 1s 6ms/step - loss: 0.3230 - mape: 1534441.6250 - r_square: 0.5348 - val_loss: 0.2872 - val_mape: 1260668.7500 - val_r_square: 0.6049\n",
            "Epoch 27/30\n",
            "202/202 [==============================] - 1s 6ms/step - loss: 0.6757 - mape: 1977516.5000 - r_square: -0.0247 - val_loss: 1.2156 - val_mape: 2129730.2500 - val_r_square: -0.7008\n",
            "Epoch 28/30\n",
            "202/202 [==============================] - 1s 6ms/step - loss: 1.6755 - mape: 2703104.7500 - r_square: -1.3773 - val_loss: 0.2623 - val_mape: 1416769.1250 - val_r_square: 0.6380\n",
            "Epoch 29/30\n",
            "202/202 [==============================] - 1s 7ms/step - loss: 0.2379 - mape: 1255673.6250 - r_square: 0.6598 - val_loss: 0.2646 - val_mape: 1295801.8750 - val_r_square: 0.6347\n",
            "Epoch 30/30\n",
            "202/202 [==============================] - 1s 6ms/step - loss: 0.2278 - mape: 1299450.1250 - r_square: 0.6730 - val_loss: 0.2927 - val_mape: 1216254.8750 - val_r_square: 0.6035\n"
          ]
        }
      ],
      "source": [
        "# Train model\n",
        "H = DNN.fit(x=x_train, y=y_train, batch_size=128, epochs=30, validation_split=0.1)"
      ]
    },
    {
      "cell_type": "code",
      "execution_count": 29,
      "metadata": {
        "colab": {
          "base_uri": "https://localhost:8080/",
          "height": 290
        },
        "id": "sun9_RyLYzMM",
        "outputId": "5f529fe0-41f6-4e97-8165-58e59850a9fc"
      },
      "outputs": [
        {
          "data": {
            "image/png": "[encoded data removed]",
            "text/plain": [
              "<Figure size 2000x400 with 3 Axes>"
            ]
          },
          "metadata": {},
          "output_type": "display_data"
        }
      ],
      "source": [
        "# Plot loss\n",
        "plt.figure(figsize=(20, 4))\n",
        "plt.subplot(1, 3, 1)\n",
        "plt.plot(DNN.history.history['loss'], label='Training', linewidth=2)\n",
        "plt.plot(DNN.history.history['val_loss'], label='Validation', linewidth=2)\n",
        "plt.legend()\n",
        "plt.xlabel('Epoch')\n",
        "plt.ylabel('Loss (mse)')\n",
        "plt.grid()\n",
        "plt.subplot(1, 3, 2)\n",
        "plt.plot(DNN.history.history['mape'], label='Training', linewidth=2)\n",
        "plt.plot(DNN.history.history['val_mape'], label='Validation', linewidth=2)\n",
        "plt.legend()\n",
        "plt.xlabel('Epoch')\n",
        "plt.ylabel('MAPE')\n",
        "plt.grid()\n",
        "plt.subplot(1, 3, 3)\n",
        "plt.plot(DNN.history.history['r_square'], label='Training', linewidth=2)\n",
        "plt.plot(DNN.history.history['val_r_square'], label='Validation', linewidth=2)\n",
        "plt.legend()\n",
        "plt.xlabel('Epoch')\n",
        "plt.ylabel('r square')\n",
        "plt.grid()\n",
        "plt.show()"
      ]
    },
    {
      "cell_type": "code",
      "execution_count": 30,
      "metadata": {
        "colab": {
          "base_uri": "https://localhost:8080/"
        },
        "id": "jqWaiy_fb0-x",
        "outputId": "289c59e2-5c8c-4bb4-f491-75099671b27d"
      },
      "outputs": [
        {
          "name": "stdout",
          "output_type": "stream",
          "text": [
            "Test loss, MAPE, and r2: [0.2714153528213501, 768953.6875, 0.5971475839614868]\n"
          ]
        }
      ],
      "source": [
        "# Compute test loss\n",
        "loss_test = DNN.evaluate(x=x_test, y=y_test, verbose=False)\n",
        "print(\"Test loss, MAPE, and r2:\", loss_test)"
      ]
    },
    {
      "cell_type": "code",
      "execution_count": 31,
      "metadata": {
        "colab": {
          "base_uri": "https://localhost:8080/"
        },
        "id": "lQxF7hMCb8Cp",
        "outputId": "8cec4ae2-d837-4951-a221-79c5d2b0e928"
      },
      "outputs": [
        {
          "name": "stdout",
          "output_type": "stream",
          "text": [
            "100/100 [==============================] - 0s 1ms/step\n",
            "(3182, 2)\n"
          ]
        }
      ],
      "source": [
        "# Predict on test set\n",
        "y_test_hat = DNN.predict(x=x_test)\n",
        "print(y_test_hat.shape)"
      ]
    },
    {
      "cell_type": "code",
      "execution_count": 32,
      "metadata": {
        "colab": {
          "base_uri": "https://localhost:8080/",
          "height": 295
        },
        "id": "tfAf4cIqcGyQ",
        "outputId": "e76d44e8-27f2-473d-93e9-72b002ef86d8"
      },
      "outputs": [
        {
          "data": {
            "image/png": "[encoded data removed]",
            "text/plain": [
              "<Figure size 640x480 with 1 Axes>"
            ]
          },
          "metadata": {},
          "output_type": "display_data"
        }
      ],
      "source": [
        "# Plot y_test_hat\n",
        "indx = np.random.permutation(len(y_test))[:500]\n",
        "plt.scatter(y_test[indx, 0], y_test[indx, 1], c='b', label='y')\n",
        "plt.scatter(y_test_hat[indx, 0], y_test_hat[indx, 1], c='r', marker='+', label='y_h')\n",
        "\n",
        "plt.legend()\n",
        "plt.grid(True)\n",
        "plt.xlabel('PM2.5')\n",
        "plt.ylabel('NO2')\n",
        "plt.title('Test set and its predictions')\n",
        "plt.show()"
      ]
    },
    {
      "cell_type": "markdown",
      "metadata": {
        "id": "Flg_pGZD5_0F"
      },
      "source": [
        "# 3.2 Auto tuning of hyperparams: number of units and optimizer"
      ]
    },
    {
      "cell_type": "code",
      "execution_count": 33,
      "metadata": {
        "id": "KWp4wGxlhsI6"
      },
      "outputs": [],
      "source": [
        "def model_builder(hp):\n",
        "  ''' Define a auxiliar function to create DNN models with varying\n",
        "      hyperparameters.\n",
        "  '''\n",
        "  model = Sequential()\n",
        "  model.add(InputLayer(input_shape=x_train.shape[1:], name='INPUT'))\n",
        "\n",
        "  # Choose an optimal number of units for the unique hidden layer between 64-1024\n",
        "  hp_units = hp.Int('units', min_value=64, max_value=1024, step=64)\n",
        "  model.add(Dense(units=hp_units, activation='relu'))\n",
        "  # Add output layer\n",
        "  model.add(Dense(units=y_train.shape[1], name='OUTPUT'))\n",
        "\n",
        "  # Choose best optimizer\n",
        "  model.compile(optimizer=hp.Choice('optimizer', values=['sgd', 'adam', 'adagrad', 'adadelta']), loss='mse', metrics=['mape'])\n",
        "  \n",
        "  return model"
      ]
    },
    {
      "cell_type": "code",
      "execution_count": 35,
      "metadata": {
        "colab": {
          "base_uri": "https://localhost:8080/"
        },
        "id": "4wn2eOcXioPQ",
        "outputId": "6e77114a-9215-49a9-d58e-632890a421e7"
      },
      "outputs": [
        {
          "name": "stdout",
          "output_type": "stream",
          "text": [
            "Search space summary\n",
            "Default search space size: 2\n",
            "units (Int)\n",
            "{'default': None, 'conditions': [], 'min_value': 64, 'max_value': 1024, 'step': 64, 'sampling': 'linear'}\n",
            "optimizer (Choice)\n",
            "{'default': 'sgd', 'conditions': [], 'values': ['sgd', 'adam', 'adagrad', 'adadelta'], 'ordered': False}\n"
          ]
        }
      ],
      "source": [
        "# Create a tuner and show the search space\n",
        "tuner = RandomSearch(model_builder,\n",
        "                     objective='val_loss',\n",
        "                     max_trials=32)\n",
        "\n",
        "tuner.search_space_summary()"
      ]
    },
    {
      "cell_type": "code",
      "execution_count": 36,
      "metadata": {
        "colab": {
          "base_uri": "https://localhost:8080/"
        },
        "id": "wcjclyCRrKXN",
        "outputId": "09e66970-4c15-4bae-ba6c-51720f902f4e"
      },
      "outputs": [
        {
          "name": "stdout",
          "output_type": "stream",
          "text": [
            "Trial 32 Complete [00h 00m 05s]\n",
            "val_loss: 177.60952758789062\n",
            "\n",
            "Best val_loss So Far: 0.295664519071579\n",
            "Total elapsed time: 00h 02m 46s\n",
            "INFO:tensorflow:Oracle triggered exit\n"
          ]
        }
      ],
      "source": [
        "# Make an initial quick exploration of the hyperparam space\n",
        "tuner.search(x_train, y_train, epochs=10, validation_split=0.1)"
      ]
    },
    {
      "cell_type": "code",
      "execution_count": 37,
      "metadata": {
        "colab": {
          "base_uri": "https://localhost:8080/"
        },
        "id": "PhQeUw8Lmqbx",
        "outputId": "af55f172-cb03-4814-e826-44ea80400fe3"
      },
      "outputs": [
        {
          "name": "stdout",
          "output_type": "stream",
          "text": [
            "Model: \"sequential\"\n",
            "_________________________________________________________________\n",
            " Layer (type)                Output Shape              Param #   \n",
            "=================================================================\n",
            " dense (Dense)               (None, 960)               27840     \n",
            "                                                                 \n",
            " OUTPUT (Dense)              (None, 2)                 1922      \n",
            "                                                                 \n",
            "=================================================================\n",
            "Total params: 29,762\n",
            "Trainable params: 29,762\n",
            "Non-trainable params: 0\n",
            "_________________________________________________________________\n"
          ]
        }
      ],
      "source": [
        "# Get the top model\n",
        "best_models = tuner.get_best_models()\n",
        "best_model = best_models[0]\n",
        "best_model.summary()"
      ]
    },
    {
      "cell_type": "code",
      "execution_count": 38,
      "metadata": {
        "colab": {
          "base_uri": "https://localhost:8080/"
        },
        "id": "pNR0VS3zmqgP",
        "outputId": "d971e113-fb21-4a49-8775-d0e7c0192a6e"
      },
      "outputs": [
        {
          "name": "stdout",
          "output_type": "stream",
          "text": [
            "Results summary\n",
            "Results in ./untitled_project\n",
            "Showing 10 best trials\n",
            "<keras_tuner.engine.objective.Objective object at 0x7fd689406c10>\n",
            "Trial summary\n",
            "Hyperparameters:\n",
            "units: 960\n",
            "optimizer: adagrad\n",
            "Score: 0.295664519071579\n",
            "Trial summary\n",
            "Hyperparameters:\n",
            "units: 704\n",
            "optimizer: adagrad\n",
            "Score: 0.2957020699977875\n",
            "Trial summary\n",
            "Hyperparameters:\n",
            "units: 1024\n",
            "optimizer: adagrad\n",
            "Score: 0.3005922734737396\n",
            "Trial summary\n",
            "Hyperparameters:\n",
            "units: 640\n",
            "optimizer: adam\n",
            "Score: 0.35189780592918396\n",
            "Trial summary\n",
            "Hyperparameters:\n",
            "units: 384\n",
            "optimizer: adam\n",
            "Score: 0.37345537543296814\n",
            "Trial summary\n",
            "Hyperparameters:\n",
            "units: 576\n",
            "optimizer: adagrad\n",
            "Score: 0.3838427662849426\n",
            "Trial summary\n",
            "Hyperparameters:\n",
            "units: 512\n",
            "optimizer: adam\n",
            "Score: 0.3857128918170929\n",
            "Trial summary\n",
            "Hyperparameters:\n",
            "units: 768\n",
            "optimizer: adam\n",
            "Score: 0.4489223062992096\n",
            "Trial summary\n",
            "Hyperparameters:\n",
            "units: 128\n",
            "optimizer: adam\n",
            "Score: 0.45094916224479675\n",
            "Trial summary\n",
            "Hyperparameters:\n",
            "units: 1024\n",
            "optimizer: adam\n",
            "Score: 0.47330793738365173\n"
          ]
        }
      ],
      "source": [
        "# See top best results\n",
        "tuner.results_summary()"
      ]
    },
    {
      "cell_type": "code",
      "execution_count": 39,
      "metadata": {
        "colab": {
          "base_uri": "https://localhost:8080/"
        },
        "id": "Lz90Elusm48w",
        "outputId": "50f977fb-b843-4066-bf0b-51653d72370a"
      },
      "outputs": [
        {
          "data": {
            "text/plain": [
              "{'units': 960, 'optimizer': 'adagrad'}"
            ]
          },
          "execution_count": 39,
          "metadata": {},
          "output_type": "execute_result"
        }
      ],
      "source": [
        "# Retrieve the best combination of hyperparams\n",
        "best_hps = tuner.get_best_hyperparameters()[0]\n",
        "best_hps.values"
      ]
    },
    {
      "cell_type": "code",
      "execution_count": 40,
      "metadata": {
        "colab": {
          "base_uri": "https://localhost:8080/"
        },
        "id": "BjtVy3V_m4_P",
        "outputId": "a13b9124-c097-40db-dfc7-936b2bc82db3"
      },
      "outputs": [
        {
          "name": "stdout",
          "output_type": "stream",
          "text": [
            "Model: \"sequential_1\"\n",
            "_________________________________________________________________\n",
            " Layer (type)                Output Shape              Param #   \n",
            "=================================================================\n",
            " dense_1 (Dense)             (None, 960)               27840     \n",
            "                                                                 \n",
            " OUTPUT (Dense)              (None, 2)                 1922      \n",
            "                                                                 \n",
            "=================================================================\n",
            "Total params: 29,762\n",
            "Trainable params: 29,762\n",
            "Non-trainable params: 0\n",
            "_________________________________________________________________\n"
          ]
        }
      ],
      "source": [
        "# Create a new model using the best hyperparams\n",
        "DNN = model_builder(best_hps)\n",
        "DNN.summary()"
      ]
    },
    {
      "cell_type": "code",
      "execution_count": 41,
      "metadata": {
        "colab": {
          "base_uri": "https://localhost:8080/"
        },
        "id": "fIEdW5Rfm5CH",
        "outputId": "e90e16ef-f78e-4fe8-856c-1b1f8ae3343b"
      },
      "outputs": [
        {
          "name": "stdout",
          "output_type": "stream",
          "text": [
            "Epoch 1/100\n",
            "403/403 [==============================] - 1s 969us/step - loss: 19.9220 - mape: 5431100.0000 - val_loss: 0.8043 - val_mape: 2986746.7500\n",
            "Epoch 2/100\n",
            "403/403 [==============================] - 0s 758us/step - loss: 0.5625 - mape: 2341133.2500 - val_loss: 0.5115 - val_mape: 1868259.7500\n",
            "Epoch 3/100\n",
            "403/403 [==============================] - 0s 792us/step - loss: 0.4206 - mape: 1816691.7500 - val_loss: 0.4380 - val_mape: 1501814.0000\n",
            "Epoch 4/100\n",
            "403/403 [==============================] - 0s 735us/step - loss: 0.3660 - mape: 1651782.0000 - val_loss: 0.4359 - val_mape: 2014183.3750\n",
            "Epoch 5/100\n",
            "403/403 [==============================] - 0s 716us/step - loss: 0.3345 - mape: 1599343.3750 - val_loss: 0.3629 - val_mape: 1834508.8750\n",
            "Epoch 6/100\n",
            "403/403 [==============================] - 0s 732us/step - loss: 0.3100 - mape: 1578467.5000 - val_loss: 0.3344 - val_mape: 1718284.1250\n",
            "Epoch 7/100\n",
            "403/403 [==============================] - 0s 729us/step - loss: 0.2996 - mape: 1549047.6250 - val_loss: 0.4179 - val_mape: 1260437.6250\n",
            "Epoch 8/100\n",
            "403/403 [==============================] - 0s 702us/step - loss: 0.2901 - mape: 1449648.7500 - val_loss: 0.3261 - val_mape: 1516426.0000\n",
            "Epoch 9/100\n",
            "403/403 [==============================] - 0s 724us/step - loss: 0.2812 - mape: 1510490.3750 - val_loss: 0.3027 - val_mape: 1639496.0000\n",
            "Epoch 10/100\n",
            "403/403 [==============================] - 0s 718us/step - loss: 0.2721 - mape: 1445995.8750 - val_loss: 0.2942 - val_mape: 1492292.5000\n",
            "Epoch 11/100\n",
            "403/403 [==============================] - 0s 778us/step - loss: 0.2649 - mape: 1432334.8750 - val_loss: 0.2921 - val_mape: 1563328.7500\n",
            "Epoch 12/100\n",
            "403/403 [==============================] - 0s 734us/step - loss: 0.2653 - mape: 1419885.1250 - val_loss: 0.2951 - val_mape: 1602573.2500\n",
            "Epoch 13/100\n",
            "403/403 [==============================] - 0s 754us/step - loss: 0.2625 - mape: 1401017.1250 - val_loss: 0.2879 - val_mape: 1505805.7500\n",
            "Epoch 14/100\n",
            "403/403 [==============================] - 0s 731us/step - loss: 0.2560 - mape: 1402614.3750 - val_loss: 0.2771 - val_mape: 1552664.0000\n",
            "Epoch 15/100\n",
            "403/403 [==============================] - 0s 719us/step - loss: 0.2524 - mape: 1385986.6250 - val_loss: 0.2714 - val_mape: 1584000.3750\n",
            "Epoch 16/100\n",
            "403/403 [==============================] - 0s 720us/step - loss: 0.2508 - mape: 1381400.6250 - val_loss: 0.2720 - val_mape: 1461931.7500\n",
            "Epoch 17/100\n",
            "403/403 [==============================] - 0s 717us/step - loss: 0.2481 - mape: 1387097.7500 - val_loss: 0.2696 - val_mape: 1535216.6250\n",
            "Epoch 18/100\n",
            "403/403 [==============================] - 0s 733us/step - loss: 0.2456 - mape: 1389817.3750 - val_loss: 0.2686 - val_mape: 1420503.6250\n",
            "Epoch 19/100\n",
            "403/403 [==============================] - 0s 804us/step - loss: 0.2438 - mape: 1343917.5000 - val_loss: 0.2678 - val_mape: 1469116.0000\n",
            "Epoch 20/100\n",
            "403/403 [==============================] - 0s 809us/step - loss: 0.2423 - mape: 1359851.3750 - val_loss: 0.2617 - val_mape: 1572922.8750\n",
            "Epoch 21/100\n",
            "403/403 [==============================] - 0s 737us/step - loss: 0.2413 - mape: 1387667.5000 - val_loss: 0.2635 - val_mape: 1499158.6250\n",
            "Epoch 22/100\n",
            "403/403 [==============================] - 0s 752us/step - loss: 0.2398 - mape: 1367475.7500 - val_loss: 0.2623 - val_mape: 1354950.3750\n",
            "Epoch 23/100\n",
            "403/403 [==============================] - 0s 746us/step - loss: 0.2389 - mape: 1351012.8750 - val_loss: 0.2655 - val_mape: 1342610.3750\n",
            "Epoch 24/100\n",
            "403/403 [==============================] - 0s 770us/step - loss: 0.2362 - mape: 1347927.3750 - val_loss: 0.3307 - val_mape: 1178678.1250\n",
            "Epoch 25/100\n",
            "403/403 [==============================] - 0s 732us/step - loss: 0.2380 - mape: 1359124.1250 - val_loss: 0.2686 - val_mape: 1328436.6250\n",
            "Epoch 26/100\n",
            "403/403 [==============================] - 0s 799us/step - loss: 0.2348 - mape: 1382173.1250 - val_loss: 0.2534 - val_mape: 1410368.0000\n",
            "Epoch 27/100\n",
            "403/403 [==============================] - 0s 734us/step - loss: 0.2324 - mape: 1378967.1250 - val_loss: 0.2537 - val_mape: 1336334.0000\n",
            "Epoch 28/100\n",
            "403/403 [==============================] - 0s 751us/step - loss: 0.2342 - mape: 1359731.6250 - val_loss: 0.2572 - val_mape: 1538858.7500\n",
            "Epoch 29/100\n",
            "403/403 [==============================] - 0s 762us/step - loss: 0.2320 - mape: 1343891.6250 - val_loss: 0.2568 - val_mape: 1256460.6250\n",
            "Epoch 30/100\n",
            "403/403 [==============================] - 0s 738us/step - loss: 0.2318 - mape: 1339070.6250 - val_loss: 0.2597 - val_mape: 1619992.8750\n",
            "Epoch 31/100\n",
            "403/403 [==============================] - 0s 740us/step - loss: 0.2291 - mape: 1355973.1250 - val_loss: 0.2518 - val_mape: 1438189.1250\n",
            "Epoch 32/100\n",
            "403/403 [==============================] - 0s 722us/step - loss: 0.2298 - mape: 1356454.1250 - val_loss: 0.2596 - val_mape: 1189366.8750\n",
            "Epoch 33/100\n",
            "403/403 [==============================] - 0s 799us/step - loss: 0.2283 - mape: 1306022.5000 - val_loss: 0.3033 - val_mape: 1178863.5000\n",
            "Epoch 34/100\n",
            "403/403 [==============================] - 0s 740us/step - loss: 0.2282 - mape: 1343280.1250 - val_loss: 0.2601 - val_mape: 1184018.2500\n",
            "Epoch 35/100\n",
            "403/403 [==============================] - 0s 749us/step - loss: 0.2279 - mape: 1375441.8750 - val_loss: 0.2585 - val_mape: 1256206.7500\n",
            "Epoch 36/100\n",
            "403/403 [==============================] - 0s 749us/step - loss: 0.2258 - mape: 1343763.7500 - val_loss: 0.2516 - val_mape: 1468767.6250\n",
            "Epoch 37/100\n",
            "403/403 [==============================] - 0s 743us/step - loss: 0.2248 - mape: 1354320.1250 - val_loss: 0.2530 - val_mape: 1498363.6250\n",
            "Epoch 38/100\n",
            "403/403 [==============================] - 0s 748us/step - loss: 0.2247 - mape: 1309854.6250 - val_loss: 0.2565 - val_mape: 1462054.2500\n",
            "Epoch 39/100\n",
            "403/403 [==============================] - 0s 762us/step - loss: 0.2239 - mape: 1285217.1250 - val_loss: 0.2448 - val_mape: 1292284.7500\n",
            "Epoch 40/100\n",
            "403/403 [==============================] - 0s 837us/step - loss: 0.2243 - mape: 1304648.7500 - val_loss: 0.2519 - val_mape: 1501816.3750\n",
            "Epoch 41/100\n",
            "403/403 [==============================] - 0s 762us/step - loss: 0.2230 - mape: 1373550.0000 - val_loss: 0.2432 - val_mape: 1251506.3750\n",
            "Epoch 42/100\n",
            "403/403 [==============================] - 0s 737us/step - loss: 0.2230 - mape: 1292710.0000 - val_loss: 0.2460 - val_mape: 1543855.2500\n",
            "Epoch 43/100\n",
            "403/403 [==============================] - 0s 831us/step - loss: 0.2226 - mape: 1304393.6250 - val_loss: 0.2404 - val_mape: 1439364.7500\n",
            "Epoch 44/100\n",
            "403/403 [==============================] - 0s 735us/step - loss: 0.2224 - mape: 1311891.8750 - val_loss: 0.2407 - val_mape: 1275660.6250\n",
            "Epoch 45/100\n",
            "403/403 [==============================] - 0s 742us/step - loss: 0.2203 - mape: 1307481.3750 - val_loss: 0.2425 - val_mape: 1354223.5000\n",
            "Epoch 46/100\n",
            "403/403 [==============================] - 0s 773us/step - loss: 0.2207 - mape: 1317661.8750 - val_loss: 0.2519 - val_mape: 1249535.6250\n",
            "Epoch 47/100\n",
            "403/403 [==============================] - 0s 972us/step - loss: 0.2206 - mape: 1321494.5000 - val_loss: 0.2436 - val_mape: 1433874.0000\n",
            "Epoch 48/100\n",
            "403/403 [==============================] - 0s 781us/step - loss: 0.2187 - mape: 1293704.7500 - val_loss: 0.2420 - val_mape: 1369836.3750\n",
            "Epoch 49/100\n",
            "403/403 [==============================] - 0s 971us/step - loss: 0.2197 - mape: 1289478.5000 - val_loss: 0.2446 - val_mape: 1275261.0000\n",
            "Epoch 50/100\n",
            "403/403 [==============================] - 0s 853us/step - loss: 0.2196 - mape: 1316771.1250 - val_loss: 0.2540 - val_mape: 1177582.1250\n",
            "Epoch 51/100\n",
            "403/403 [==============================] - 0s 761us/step - loss: 0.2204 - mape: 1306636.3750 - val_loss: 0.2519 - val_mape: 1555557.8750\n",
            "Epoch 52/100\n",
            "403/403 [==============================] - 0s 732us/step - loss: 0.2186 - mape: 1318815.3750 - val_loss: 0.2406 - val_mape: 1252622.0000\n",
            "Epoch 53/100\n",
            "403/403 [==============================] - 0s 735us/step - loss: 0.2176 - mape: 1308889.2500 - val_loss: 0.2480 - val_mape: 1270740.8750\n",
            "Epoch 54/100\n",
            "403/403 [==============================] - 0s 801us/step - loss: 0.2171 - mape: 1293739.2500 - val_loss: 0.2583 - val_mape: 1065517.1250\n",
            "Epoch 55/100\n",
            "403/403 [==============================] - 0s 757us/step - loss: 0.2191 - mape: 1289376.0000 - val_loss: 0.2376 - val_mape: 1305079.6250\n",
            "Epoch 56/100\n",
            "403/403 [==============================] - 0s 882us/step - loss: 0.2167 - mape: 1307550.6250 - val_loss: 0.2376 - val_mape: 1429499.0000\n",
            "Epoch 57/100\n",
            "403/403 [==============================] - 0s 769us/step - loss: 0.2175 - mape: 1283860.2500 - val_loss: 0.2425 - val_mape: 1289599.2500\n",
            "Epoch 58/100\n",
            "403/403 [==============================] - 0s 728us/step - loss: 0.2180 - mape: 1296341.0000 - val_loss: 0.2366 - val_mape: 1413215.5000\n",
            "Epoch 59/100\n",
            "403/403 [==============================] - 0s 727us/step - loss: 0.2156 - mape: 1319762.7500 - val_loss: 0.3306 - val_mape: 1853867.2500\n",
            "Epoch 60/100\n",
            "403/403 [==============================] - 0s 810us/step - loss: 0.2182 - mape: 1304845.3750 - val_loss: 0.2354 - val_mape: 1198982.8750\n",
            "Epoch 61/100\n",
            "403/403 [==============================] - 0s 736us/step - loss: 0.2154 - mape: 1291235.3750 - val_loss: 0.2374 - val_mape: 1180647.3750\n",
            "Epoch 62/100\n",
            "403/403 [==============================] - 0s 749us/step - loss: 0.2163 - mape: 1322279.8750 - val_loss: 0.2430 - val_mape: 1106974.3750\n",
            "Epoch 63/100\n",
            "403/403 [==============================] - 0s 739us/step - loss: 0.2170 - mape: 1305968.1250 - val_loss: 0.2389 - val_mape: 1187645.6250\n",
            "Epoch 64/100\n",
            "403/403 [==============================] - 0s 721us/step - loss: 0.2161 - mape: 1330907.8750 - val_loss: 0.2328 - val_mape: 1300251.1250\n",
            "Epoch 65/100\n",
            "403/403 [==============================] - 0s 718us/step - loss: 0.2155 - mape: 1321343.7500 - val_loss: 0.2407 - val_mape: 1461990.5000\n",
            "Epoch 66/100\n",
            "403/403 [==============================] - 0s 727us/step - loss: 0.2149 - mape: 1256413.1250 - val_loss: 0.2359 - val_mape: 1274393.8750\n",
            "Epoch 67/100\n",
            "403/403 [==============================] - 0s 817us/step - loss: 0.2148 - mape: 1242891.3750 - val_loss: 0.2325 - val_mape: 1186871.6250\n",
            "Epoch 68/100\n",
            "403/403 [==============================] - 0s 747us/step - loss: 0.2143 - mape: 1292300.3750 - val_loss: 0.2330 - val_mape: 1337984.1250\n",
            "Epoch 69/100\n",
            "403/403 [==============================] - 0s 735us/step - loss: 0.2131 - mape: 1281300.5000 - val_loss: 0.2358 - val_mape: 1202708.5000\n",
            "Epoch 70/100\n",
            "403/403 [==============================] - 0s 759us/step - loss: 0.2131 - mape: 1308466.1250 - val_loss: 0.2580 - val_mape: 1090306.2500\n",
            "Epoch 71/100\n",
            "403/403 [==============================] - 0s 725us/step - loss: 0.2149 - mape: 1278250.7500 - val_loss: 0.2359 - val_mape: 1413995.0000\n",
            "Epoch 72/100\n",
            "403/403 [==============================] - 0s 732us/step - loss: 0.2152 - mape: 1305704.7500 - val_loss: 0.2383 - val_mape: 1158227.7500\n",
            "Epoch 73/100\n",
            "403/403 [==============================] - 0s 736us/step - loss: 0.2120 - mape: 1281955.6250 - val_loss: 0.2423 - val_mape: 1450114.8750\n",
            "Epoch 74/100\n",
            "403/403 [==============================] - 0s 790us/step - loss: 0.2126 - mape: 1294420.7500 - val_loss: 0.2308 - val_mape: 1201810.7500\n",
            "Epoch 75/100\n",
            "403/403 [==============================] - 0s 742us/step - loss: 0.2132 - mape: 1283125.6250 - val_loss: 0.2416 - val_mape: 1541476.8750\n",
            "Epoch 76/100\n",
            "403/403 [==============================] - 0s 733us/step - loss: 0.2123 - mape: 1254093.3750 - val_loss: 0.2576 - val_mape: 1584359.5000\n",
            "Epoch 77/100\n",
            "403/403 [==============================] - 0s 727us/step - loss: 0.2119 - mape: 1295871.2500 - val_loss: 0.2492 - val_mape: 1114934.3750\n",
            "Epoch 78/100\n",
            "403/403 [==============================] - 0s 724us/step - loss: 0.2136 - mape: 1267905.1250 - val_loss: 0.2321 - val_mape: 1176827.7500\n",
            "Epoch 79/100\n",
            "403/403 [==============================] - 0s 718us/step - loss: 0.2120 - mape: 1280965.1250 - val_loss: 0.2296 - val_mape: 1327850.1250\n",
            "Epoch 80/100\n",
            "403/403 [==============================] - 0s 725us/step - loss: 0.2110 - mape: 1283245.8750 - val_loss: 0.2379 - val_mape: 1170914.3750\n",
            "Epoch 81/100\n",
            "403/403 [==============================] - 0s 871us/step - loss: 0.2105 - mape: 1301677.2500 - val_loss: 0.2299 - val_mape: 1312868.3750\n",
            "Epoch 82/100\n",
            "403/403 [==============================] - 0s 753us/step - loss: 0.2115 - mape: 1282101.3750 - val_loss: 0.2315 - val_mape: 1420566.0000\n",
            "Epoch 83/100\n",
            "403/403 [==============================] - 0s 733us/step - loss: 0.2117 - mape: 1291150.1250 - val_loss: 0.2457 - val_mape: 1189338.5000\n",
            "Epoch 84/100\n",
            "403/403 [==============================] - 0s 730us/step - loss: 0.2120 - mape: 1223358.3750 - val_loss: 0.2303 - val_mape: 1386143.8750\n",
            "Epoch 85/100\n",
            "403/403 [==============================] - 0s 732us/step - loss: 0.2114 - mape: 1276630.1250 - val_loss: 0.2418 - val_mape: 1169035.1250\n",
            "Epoch 86/100\n",
            "403/403 [==============================] - 0s 734us/step - loss: 0.2107 - mape: 1281145.7500 - val_loss: 0.2376 - val_mape: 1387340.5000\n",
            "Epoch 87/100\n",
            "403/403 [==============================] - 0s 744us/step - loss: 0.2104 - mape: 1291490.1250 - val_loss: 0.2341 - val_mape: 1252554.3750\n",
            "Epoch 88/100\n",
            "403/403 [==============================] - 0s 1ms/step - loss: 0.2110 - mape: 1295693.0000 - val_loss: 0.2458 - val_mape: 1153931.1250\n",
            "Epoch 89/100\n",
            "403/403 [==============================] - 0s 797us/step - loss: 0.2119 - mape: 1289454.5000 - val_loss: 0.2283 - val_mape: 1305524.8750\n",
            "Epoch 90/100\n",
            "403/403 [==============================] - 0s 753us/step - loss: 0.2102 - mape: 1293946.0000 - val_loss: 0.2480 - val_mape: 1080921.6250\n",
            "Epoch 91/100\n",
            "403/403 [==============================] - 0s 741us/step - loss: 0.2101 - mape: 1308127.1250 - val_loss: 0.2335 - val_mape: 1156532.5000\n",
            "Epoch 92/100\n",
            "403/403 [==============================] - 0s 725us/step - loss: 0.2105 - mape: 1279749.6250 - val_loss: 0.2465 - val_mape: 1126266.5000\n",
            "Epoch 93/100\n",
            "403/403 [==============================] - 0s 736us/step - loss: 0.2112 - mape: 1303925.3750 - val_loss: 0.2338 - val_mape: 1416408.0000\n",
            "Epoch 94/100\n",
            "403/403 [==============================] - 0s 727us/step - loss: 0.2097 - mape: 1284998.8750 - val_loss: 0.2306 - val_mape: 1392787.6250\n",
            "Epoch 95/100\n",
            "403/403 [==============================] - 0s 780us/step - loss: 0.2095 - mape: 1264254.5000 - val_loss: 0.2305 - val_mape: 1235750.7500\n",
            "Epoch 96/100\n",
            "403/403 [==============================] - 0s 797us/step - loss: 0.2103 - mape: 1279402.5000 - val_loss: 0.2294 - val_mape: 1243266.6250\n",
            "Epoch 97/100\n",
            "403/403 [==============================] - 0s 772us/step - loss: 0.2107 - mape: 1268078.1250 - val_loss: 0.2273 - val_mape: 1246727.3750\n",
            "Epoch 98/100\n",
            "403/403 [==============================] - 0s 730us/step - loss: 0.2088 - mape: 1287336.0000 - val_loss: 0.2300 - val_mape: 1171948.1250\n",
            "Epoch 99/100\n",
            "403/403 [==============================] - 0s 740us/step - loss: 0.2079 - mape: 1255833.7500 - val_loss: 0.2396 - val_mape: 1381609.6250\n",
            "Epoch 100/100\n",
            "403/403 [==============================] - 0s 744us/step - loss: 0.2087 - mape: 1283892.5000 - val_loss: 0.2328 - val_mape: 1130945.0000\n"
          ]
        }
      ],
      "source": [
        "# Full training of best model\n",
        "H = DNN.fit(x=x_train, y=y_train, batch_size=64, epochs=100, validation_split=0.1)"
      ]
    },
    {
      "cell_type": "markdown",
      "metadata": {
        "id": "YABYPnzS8ab3"
      },
      "source": [
        "# 3.2 Auto tuning of hyperparams: number of layers, number of units, and optimizer"
      ]
    },
    {
      "cell_type": "code",
      "execution_count": 47,
      "metadata": {
        "id": "BTI4XeEIDENi"
      },
      "outputs": [],
      "source": [
        "def model_builder(hp):\n",
        "  ''' Define a auxiliar function to create DNN models with varying\n",
        "      hyperparameters.\n",
        "  '''\n",
        "  model = Sequential()\n",
        "  model.add(InputLayer(input_shape=x_train.shape[1:], name='INPUT'))\n",
        "\n",
        "  # Choose optimal number of layers between 2 and 8\n",
        "  for i in range(hp.Int('num_layers', 2, 8)):\n",
        "    # Tune the number of units in the each dense layer\n",
        "    hp_units = hp.Int('units_'+str(i), min_value=64, max_value=1024, step=64)\n",
        "    model.add(Dense(units=hp_units, activation='relu'))\n",
        "  # Add output layer\n",
        "  model.add(Dense(units=y_train.shape[1], name='OUTPUT'))\n",
        "\n",
        "  # Choose best optimizer\n",
        "  model.compile(optimizer=hp.Choice('optimizer', values=['sgd', 'adam', 'adagrad', 'adadelta']), loss='mse', metrics=['mape'])\n",
        "  \n",
        "  return model"
      ]
    },
    {
      "cell_type": "code",
      "execution_count": 45,
      "metadata": {
        "id": "8BfZHAjl816a"
      },
      "outputs": [],
      "source": [
        "def model_builder(hp):\n",
        "  model = Sequential()\n",
        "  model.add(InputLayer(input_shape=x_train.shape[1:], name='INPUT'))\n",
        "\n",
        "  # Choose an optimal number of units between 64-1024\n",
        "  #hp_units = hp.Int('units', min_value=64, max_value=1024, step=64)\n",
        "  # Choose optimal number of layers between 2 and 8\n",
        "  for i in range(hp.Int('layers', 2, 8)):\n",
        "    model.add(Dense(units=hp.Int('units_' + str(i), min_value=64, max_value=1024, step=64), activation='relu'))\n",
        "    #model.add(Dense(units=hp_units, activation='relu'))\n",
        "  # Add output layer\n",
        "  model.add(Dense(units=y_train.shape[1], name='OUTPUT'))\n",
        "\n",
        "  # Choose best optimizer\n",
        "  model.compile(optimizer=hp.Choice('optimizer', values=['sgd', 'adam', 'adagrad', 'adadelta']), loss='mse', metrics=['mape'])\n",
        "  \n",
        "  return model"
      ]
    },
    {
      "cell_type": "code",
      "execution_count": 48,
      "metadata": {
        "colab": {
          "base_uri": "https://localhost:8080/"
        },
        "id": "qROz7Ldj816c",
        "outputId": "03a3e043-ee75-4eb0-e2ce-2fc77202292a"
      },
      "outputs": [
        {
          "name": "stdout",
          "output_type": "stream",
          "text": [
            "INFO:tensorflow:Reloading Tuner from ./untitled_project/tuner0.json\n",
            "Search space summary\n",
            "Default search space size: 2\n",
            "units (Int)\n",
            "{'default': None, 'conditions': [], 'min_value': 64, 'max_value': 1024, 'step': 64, 'sampling': 'linear'}\n",
            "optimizer (Choice)\n",
            "{'default': 'sgd', 'conditions': [], 'values': ['sgd', 'adam', 'adagrad', 'adadelta'], 'ordered': False}\n"
          ]
        }
      ],
      "source": [
        "# Create a tuner and show the search space\n",
        "tuner = RandomSearch(model_builder,\n",
        "                     objective='val_loss',\n",
        "                     max_trials=64)\n",
        "\n",
        "tuner.search_space_summary()"
      ]
    },
    {
      "cell_type": "code",
      "execution_count": 49,
      "metadata": {
        "colab": {
          "base_uri": "https://localhost:8080/"
        },
        "id": "csXz6fCT816e",
        "outputId": "ad967590-d5fa-4264-bdd6-cf52fbcebfee"
      },
      "outputs": [
        {
          "name": "stdout",
          "output_type": "stream",
          "text": [
            "Trial 64 Complete [00h 01m 08s]\n",
            "val_loss: nan\n",
            "\n",
            "Best val_loss So Far: 0.2209615260362625\n",
            "Total elapsed time: 00h 24m 18s\n",
            "INFO:tensorflow:Oracle triggered exit\n"
          ]
        }
      ],
      "source": [
        "# Make an initial quick exploration of the hyperparam space\n",
        "tuner.search(x_train, y_train, epochs=10, validation_split=0.1)"
      ]
    },
    {
      "cell_type": "code",
      "execution_count": 50,
      "metadata": {
        "colab": {
          "base_uri": "https://localhost:8080/"
        },
        "id": "MPbRzq6_816f",
        "outputId": "c29c4848-568c-43f9-a2db-702d6913ea50"
      },
      "outputs": [
        {
          "name": "stdout",
          "output_type": "stream",
          "text": [
            "Model: \"sequential\"\n",
            "_________________________________________________________________\n",
            " Layer (type)                Output Shape              Param #   \n",
            "=================================================================\n",
            " dense (Dense)               (None, 64)                1856      \n",
            "                                                                 \n",
            " dense_1 (Dense)             (None, 448)               29120     \n",
            "                                                                 \n",
            " dense_2 (Dense)             (None, 320)               143680    \n",
            "                                                                 \n",
            " dense_3 (Dense)             (None, 256)               82176     \n",
            "                                                                 \n",
            " dense_4 (Dense)             (None, 832)               213824    \n",
            "                                                                 \n",
            " dense_5 (Dense)             (None, 64)                53312     \n",
            "                                                                 \n",
            " dense_6 (Dense)             (None, 64)                4160      \n",
            "                                                                 \n",
            " dense_7 (Dense)             (None, 256)               16640     \n",
            "                                                                 \n",
            " OUTPUT (Dense)              (None, 2)                 514       \n",
            "                                                                 \n",
            "=================================================================\n",
            "Total params: 545,282\n",
            "Trainable params: 545,282\n",
            "Non-trainable params: 0\n",
            "_________________________________________________________________\n",
            "WARNING:tensorflow:Detecting that an object or model or tf.train.Checkpoint is being deleted with unrestored values. See the following logs for the specific values in question. To silence these warnings, use `status.expect_partial()`. See https://www.tensorflow.org/api_docs/python/tf/train/Checkpoint#restorefor details about the status object returned by the restore function.\n",
            "WARNING:tensorflow:Value in checkpoint could not be found in the restored object: (root).optimizer.iter\n",
            "WARNING:tensorflow:Value in checkpoint could not be found in the restored object: (root).optimizer.beta_1\n",
            "WARNING:tensorflow:Value in checkpoint could not be found in the restored object: (root).optimizer.beta_2\n",
            "WARNING:tensorflow:Value in checkpoint could not be found in the restored object: (root).optimizer.decay\n",
            "WARNING:tensorflow:Value in checkpoint could not be found in the restored object: (root).optimizer.learning_rate\n"
          ]
        }
      ],
      "source": [
        "# Get the top model\n",
        "tuner.get_best_models()[0].summary()"
      ]
    },
    {
      "cell_type": "code",
      "execution_count": 51,
      "metadata": {
        "colab": {
          "base_uri": "https://localhost:8080/"
        },
        "id": "Fk5_k3SY816h",
        "outputId": "1b2e5ee7-042a-4e83-d8be-434eb598e533"
      },
      "outputs": [
        {
          "name": "stdout",
          "output_type": "stream",
          "text": [
            "Model: \"sequential_1\"\n",
            "_________________________________________________________________\n",
            " Layer (type)                Output Shape              Param #   \n",
            "=================================================================\n",
            " dense_8 (Dense)             (None, 64)                1856      \n",
            "                                                                 \n",
            " dense_9 (Dense)             (None, 448)               29120     \n",
            "                                                                 \n",
            " dense_10 (Dense)            (None, 320)               143680    \n",
            "                                                                 \n",
            " dense_11 (Dense)            (None, 256)               82176     \n",
            "                                                                 \n",
            " dense_12 (Dense)            (None, 832)               213824    \n",
            "                                                                 \n",
            " dense_13 (Dense)            (None, 64)                53312     \n",
            "                                                                 \n",
            " dense_14 (Dense)            (None, 64)                4160      \n",
            "                                                                 \n",
            " dense_15 (Dense)            (None, 256)               16640     \n",
            "                                                                 \n",
            " OUTPUT (Dense)              (None, 2)                 514       \n",
            "                                                                 \n",
            "=================================================================\n",
            "Total params: 545,282\n",
            "Trainable params: 545,282\n",
            "Non-trainable params: 0\n",
            "_________________________________________________________________\n"
          ]
        }
      ],
      "source": [
        "# Create a new model using the best hyperparams\n",
        "DNN = model_builder(tuner.get_best_hyperparameters()[0])\n",
        "DNN.summary()"
      ]
    },
    {
      "cell_type": "code",
      "execution_count": 52,
      "metadata": {
        "colab": {
          "base_uri": "https://localhost:8080/"
        },
        "id": "dPBWgCyh816h",
        "outputId": "d6f9059f-7d60-495e-bf64-50d20424624b"
      },
      "outputs": [
        {
          "name": "stdout",
          "output_type": "stream",
          "text": [
            "Epoch 1/100\n",
            "403/403 [==============================] - 2s 4ms/step - loss: 1.9174 - mape: 2129086.2500 - val_loss: 0.3785 - val_mape: 2017393.1250\n",
            "Epoch 2/100\n",
            "403/403 [==============================] - 1s 3ms/step - loss: 0.2821 - mape: 1479335.8750 - val_loss: 0.2949 - val_mape: 1461430.1250\n",
            "Epoch 3/100\n",
            "403/403 [==============================] - 1s 3ms/step - loss: 0.2631 - mape: 1480384.2500 - val_loss: 0.2870 - val_mape: 1120030.5000\n",
            "Epoch 4/100\n",
            "403/403 [==============================] - 1s 3ms/step - loss: 0.2418 - mape: 1334028.0000 - val_loss: 0.2885 - val_mape: 1591342.8750\n",
            "Epoch 5/100\n",
            "403/403 [==============================] - 1s 3ms/step - loss: 0.2341 - mape: 1298227.2500 - val_loss: 0.2519 - val_mape: 1544640.0000\n",
            "Epoch 6/100\n",
            "403/403 [==============================] - 1s 3ms/step - loss: 0.2297 - mape: 1342679.8750 - val_loss: 0.2792 - val_mape: 1604821.5000\n",
            "Epoch 7/100\n",
            "403/403 [==============================] - 1s 3ms/step - loss: 0.2267 - mape: 1360397.3750 - val_loss: 0.2409 - val_mape: 1521433.2500\n",
            "Epoch 8/100\n",
            "403/403 [==============================] - 1s 3ms/step - loss: 0.2211 - mape: 1350418.7500 - val_loss: 0.2293 - val_mape: 1262197.3750\n",
            "Epoch 9/100\n",
            "403/403 [==============================] - 1s 3ms/step - loss: 0.2195 - mape: 1355837.0000 - val_loss: 0.2295 - val_mape: 1313197.0000\n",
            "Epoch 10/100\n",
            "403/403 [==============================] - 1s 3ms/step - loss: 0.2185 - mape: 1307348.7500 - val_loss: 0.2709 - val_mape: 1955978.0000\n",
            "Epoch 11/100\n",
            "403/403 [==============================] - 1s 3ms/step - loss: 0.2120 - mape: 1349038.2500 - val_loss: 0.2285 - val_mape: 1383242.5000\n",
            "Epoch 12/100\n",
            "403/403 [==============================] - 1s 3ms/step - loss: 0.2134 - mape: 1289429.5000 - val_loss: 0.2273 - val_mape: 1539823.8750\n",
            "Epoch 13/100\n",
            "403/403 [==============================] - 1s 3ms/step - loss: 0.2123 - mape: 1263792.0000 - val_loss: 0.2240 - val_mape: 1465157.7500\n",
            "Epoch 14/100\n",
            "403/403 [==============================] - 1s 3ms/step - loss: 0.2058 - mape: 1243014.3750 - val_loss: 0.2306 - val_mape: 1517037.0000\n",
            "Epoch 15/100\n",
            "403/403 [==============================] - 1s 3ms/step - loss: 0.2159 - mape: 1265023.2500 - val_loss: 0.2155 - val_mape: 1353204.0000\n",
            "Epoch 16/100\n",
            "403/403 [==============================] - 1s 3ms/step - loss: 0.2022 - mape: 1227162.7500 - val_loss: 0.2229 - val_mape: 1408183.2500\n",
            "Epoch 17/100\n",
            "403/403 [==============================] - 1s 3ms/step - loss: 0.2044 - mape: 1258315.2500 - val_loss: 0.2167 - val_mape: 1338275.0000\n",
            "Epoch 18/100\n",
            "403/403 [==============================] - 1s 3ms/step - loss: 0.2024 - mape: 1268131.2500 - val_loss: 0.2178 - val_mape: 1457602.6250\n",
            "Epoch 19/100\n",
            "403/403 [==============================] - 1s 3ms/step - loss: 0.2000 - mape: 1221477.5000 - val_loss: 0.2139 - val_mape: 1318590.6250\n",
            "Epoch 20/100\n",
            "403/403 [==============================] - 1s 3ms/step - loss: 0.2057 - mape: 1211492.5000 - val_loss: 0.2111 - val_mape: 1289597.0000\n",
            "Epoch 21/100\n",
            "403/403 [==============================] - 1s 3ms/step - loss: 0.1996 - mape: 1229858.5000 - val_loss: 0.2120 - val_mape: 1237755.6250\n",
            "Epoch 22/100\n",
            "403/403 [==============================] - 1s 3ms/step - loss: 0.2046 - mape: 1221830.3750 - val_loss: 0.2134 - val_mape: 1371469.0000\n",
            "Epoch 23/100\n",
            "403/403 [==============================] - 1s 3ms/step - loss: 0.1974 - mape: 1240437.7500 - val_loss: 0.2180 - val_mape: 1226130.1250\n",
            "Epoch 24/100\n",
            "403/403 [==============================] - 1s 3ms/step - loss: 0.1991 - mape: 1277568.7500 - val_loss: 0.2121 - val_mape: 1286013.0000\n",
            "Epoch 25/100\n",
            "403/403 [==============================] - 1s 3ms/step - loss: 0.1996 - mape: 1277944.6250 - val_loss: 0.2108 - val_mape: 1238246.2500\n",
            "Epoch 26/100\n",
            "403/403 [==============================] - 1s 3ms/step - loss: 0.1926 - mape: 1212852.7500 - val_loss: 0.2105 - val_mape: 1350583.6250\n",
            "Epoch 27/100\n",
            "403/403 [==============================] - 1s 3ms/step - loss: 0.1943 - mape: 1248728.8750 - val_loss: 0.2118 - val_mape: 1525271.2500\n",
            "Epoch 28/100\n",
            "403/403 [==============================] - 1s 3ms/step - loss: 0.1915 - mape: 1227101.7500 - val_loss: 0.2094 - val_mape: 1444113.6250\n",
            "Epoch 29/100\n",
            "403/403 [==============================] - 1s 3ms/step - loss: 0.1890 - mape: 1210798.8750 - val_loss: 0.2163 - val_mape: 1214962.7500\n",
            "Epoch 30/100\n",
            "403/403 [==============================] - 1s 3ms/step - loss: 0.1915 - mape: 1212991.1250 - val_loss: 0.2030 - val_mape: 1519936.0000\n",
            "Epoch 31/100\n",
            "403/403 [==============================] - 1s 3ms/step - loss: 0.1859 - mape: 1174194.3750 - val_loss: 0.2135 - val_mape: 1299888.2500\n",
            "Epoch 32/100\n",
            "403/403 [==============================] - 1s 3ms/step - loss: 0.1852 - mape: 1212869.0000 - val_loss: 0.2176 - val_mape: 1538794.0000\n",
            "Epoch 33/100\n",
            "403/403 [==============================] - 1s 3ms/step - loss: 0.1908 - mape: 1222913.2500 - val_loss: 0.2069 - val_mape: 1180183.6250\n",
            "Epoch 34/100\n",
            "403/403 [==============================] - 1s 3ms/step - loss: 0.1843 - mape: 1157657.5000 - val_loss: 0.2051 - val_mape: 1025980.8125\n",
            "Epoch 35/100\n",
            "403/403 [==============================] - 1s 3ms/step - loss: 0.1844 - mape: 1177628.5000 - val_loss: 0.1965 - val_mape: 1290228.8750\n",
            "Epoch 36/100\n",
            "403/403 [==============================] - 1s 3ms/step - loss: 0.1855 - mape: 1157134.0000 - val_loss: 0.2039 - val_mape: 1274077.3750\n",
            "Epoch 37/100\n",
            "403/403 [==============================] - 1s 3ms/step - loss: 0.1800 - mape: 1173474.8750 - val_loss: 0.2059 - val_mape: 1182963.6250\n",
            "Epoch 38/100\n",
            "403/403 [==============================] - 1s 3ms/step - loss: 0.1778 - mape: 1171757.6250 - val_loss: 0.1969 - val_mape: 1424493.6250\n",
            "Epoch 39/100\n",
            "403/403 [==============================] - 1s 3ms/step - loss: 0.1804 - mape: 1227486.8750 - val_loss: 0.2033 - val_mape: 1246535.3750\n",
            "Epoch 40/100\n",
            "403/403 [==============================] - 1s 3ms/step - loss: 0.1774 - mape: 1168479.1250 - val_loss: 0.1975 - val_mape: 1074730.5000\n",
            "Epoch 41/100\n",
            "403/403 [==============================] - 1s 3ms/step - loss: 0.1728 - mape: 1088731.7500 - val_loss: 0.2080 - val_mape: 1170845.1250\n",
            "Epoch 42/100\n",
            "403/403 [==============================] - 1s 3ms/step - loss: 0.1744 - mape: 1123167.7500 - val_loss: 0.1902 - val_mape: 1222690.7500\n",
            "Epoch 43/100\n",
            "403/403 [==============================] - 1s 3ms/step - loss: 0.1737 - mape: 1123525.3750 - val_loss: 0.2046 - val_mape: 1429338.0000\n",
            "Epoch 44/100\n",
            "403/403 [==============================] - 1s 3ms/step - loss: 0.1713 - mape: 1156993.3750 - val_loss: 0.1900 - val_mape: 1198901.3750\n",
            "Epoch 45/100\n",
            "403/403 [==============================] - 1s 3ms/step - loss: 0.1703 - mape: 1189834.3750 - val_loss: 0.1902 - val_mape: 1138533.2500\n",
            "Epoch 46/100\n",
            "403/403 [==============================] - 1s 3ms/step - loss: 0.1703 - mape: 1121502.3750 - val_loss: 0.2105 - val_mape: 1226762.3750\n",
            "Epoch 47/100\n",
            "403/403 [==============================] - 1s 3ms/step - loss: 0.1689 - mape: 1120570.7500 - val_loss: 0.1896 - val_mape: 1172616.8750\n",
            "Epoch 48/100\n",
            "403/403 [==============================] - 1s 3ms/step - loss: 0.1683 - mape: 1135752.6250 - val_loss: 0.1892 - val_mape: 1226653.0000\n",
            "Epoch 49/100\n",
            "403/403 [==============================] - 1s 3ms/step - loss: 0.1689 - mape: 1106176.1250 - val_loss: 0.1854 - val_mape: 1125226.3750\n",
            "Epoch 50/100\n",
            "403/403 [==============================] - 1s 3ms/step - loss: 0.1671 - mape: 1157074.2500 - val_loss: 0.1856 - val_mape: 1155934.1250\n",
            "Epoch 51/100\n",
            "403/403 [==============================] - 1s 3ms/step - loss: 0.1653 - mape: 1134731.5000 - val_loss: 0.1817 - val_mape: 1048171.6250\n",
            "Epoch 52/100\n",
            "403/403 [==============================] - 1s 3ms/step - loss: 0.1628 - mape: 1154054.7500 - val_loss: 0.1798 - val_mape: 1136223.3750\n",
            "Epoch 53/100\n",
            "403/403 [==============================] - 1s 3ms/step - loss: 0.1609 - mape: 1108578.3750 - val_loss: 0.1902 - val_mape: 1191095.3750\n",
            "Epoch 54/100\n",
            "403/403 [==============================] - 1s 3ms/step - loss: 0.1722 - mape: 1204210.1250 - val_loss: 0.1998 - val_mape: 947080.5625\n",
            "Epoch 55/100\n",
            "403/403 [==============================] - 1s 3ms/step - loss: 0.1621 - mape: 1135761.6250 - val_loss: 0.1878 - val_mape: 1143478.3750\n",
            "Epoch 56/100\n",
            "403/403 [==============================] - 1s 3ms/step - loss: 0.1603 - mape: 1139457.5000 - val_loss: 0.1782 - val_mape: 978042.4375\n",
            "Epoch 57/100\n",
            "403/403 [==============================] - 1s 3ms/step - loss: 0.1605 - mape: 1144093.7500 - val_loss: 0.1893 - val_mape: 1324173.6250\n",
            "Epoch 58/100\n",
            "403/403 [==============================] - 1s 3ms/step - loss: 0.1594 - mape: 1116101.3750 - val_loss: 0.1863 - val_mape: 1187811.2500\n",
            "Epoch 59/100\n",
            "403/403 [==============================] - 1s 3ms/step - loss: 0.1565 - mape: 1081185.7500 - val_loss: 0.1799 - val_mape: 1079011.5000\n",
            "Epoch 60/100\n",
            "403/403 [==============================] - 1s 3ms/step - loss: 0.1538 - mape: 1101732.1250 - val_loss: 0.1909 - val_mape: 912632.6875\n",
            "Epoch 61/100\n",
            "403/403 [==============================] - 1s 3ms/step - loss: 0.1609 - mape: 1146663.0000 - val_loss: 0.1852 - val_mape: 1138679.8750\n",
            "Epoch 62/100\n",
            "403/403 [==============================] - 1s 3ms/step - loss: 0.1554 - mape: 1085529.0000 - val_loss: 0.1731 - val_mape: 1064623.2500\n",
            "Epoch 63/100\n",
            "403/403 [==============================] - 1s 3ms/step - loss: 0.1580 - mape: 1094346.3750 - val_loss: 0.1997 - val_mape: 1359164.3750\n",
            "Epoch 64/100\n",
            "403/403 [==============================] - 1s 3ms/step - loss: 0.1552 - mape: 1105755.8750 - val_loss: 0.1748 - val_mape: 1204202.2500\n",
            "Epoch 65/100\n",
            "403/403 [==============================] - 1s 3ms/step - loss: 0.1532 - mape: 1155886.5000 - val_loss: 0.1891 - val_mape: 963665.9375\n",
            "Epoch 66/100\n",
            "403/403 [==============================] - 1s 3ms/step - loss: 0.1487 - mape: 1061389.1250 - val_loss: 0.1742 - val_mape: 1025787.2500\n",
            "Epoch 67/100\n",
            "403/403 [==============================] - 1s 3ms/step - loss: 0.1473 - mape: 1089037.8750 - val_loss: 0.1719 - val_mape: 1181822.0000\n",
            "Epoch 68/100\n",
            "403/403 [==============================] - 1s 3ms/step - loss: 0.1494 - mape: 1105513.1250 - val_loss: 0.1711 - val_mape: 1162529.3750\n",
            "Epoch 69/100\n",
            "403/403 [==============================] - 1s 3ms/step - loss: 0.1465 - mape: 1128489.7500 - val_loss: 0.1707 - val_mape: 987687.2500\n",
            "Epoch 70/100\n",
            "403/403 [==============================] - 1s 3ms/step - loss: 0.1469 - mape: 1115168.0000 - val_loss: 0.1666 - val_mape: 1223685.8750\n",
            "Epoch 71/100\n",
            "403/403 [==============================] - 1s 3ms/step - loss: 0.1454 - mape: 1103620.8750 - val_loss: 0.1669 - val_mape: 1248945.7500\n",
            "Epoch 72/100\n",
            "403/403 [==============================] - 1s 3ms/step - loss: 0.1453 - mape: 1066432.5000 - val_loss: 0.1761 - val_mape: 1112362.5000\n",
            "Epoch 73/100\n",
            "403/403 [==============================] - 1s 3ms/step - loss: 0.1418 - mape: 1097916.5000 - val_loss: 0.1613 - val_mape: 1282060.2500\n",
            "Epoch 74/100\n",
            "403/403 [==============================] - 1s 3ms/step - loss: 0.1413 - mape: 1034925.6875 - val_loss: 0.1686 - val_mape: 1263329.7500\n",
            "Epoch 75/100\n",
            "403/403 [==============================] - 1s 3ms/step - loss: 0.1402 - mape: 1055769.0000 - val_loss: 0.1760 - val_mape: 1062749.0000\n",
            "Epoch 76/100\n",
            "403/403 [==============================] - 1s 3ms/step - loss: 0.1487 - mape: 1135420.3750 - val_loss: 0.1658 - val_mape: 1215219.8750\n",
            "Epoch 77/100\n",
            "403/403 [==============================] - 1s 3ms/step - loss: 0.1424 - mape: 1119112.5000 - val_loss: 0.1598 - val_mape: 1146137.0000\n",
            "Epoch 78/100\n",
            "403/403 [==============================] - 1s 3ms/step - loss: 0.1394 - mape: 1120159.8750 - val_loss: 0.1639 - val_mape: 1115045.2500\n",
            "Epoch 79/100\n",
            "403/403 [==============================] - 1s 3ms/step - loss: 0.1349 - mape: 1049215.2500 - val_loss: 0.1602 - val_mape: 1310766.0000\n",
            "Epoch 80/100\n",
            "403/403 [==============================] - 1s 3ms/step - loss: 0.1327 - mape: 1051802.8750 - val_loss: 0.1584 - val_mape: 1254246.1250\n",
            "Epoch 81/100\n",
            "403/403 [==============================] - 1s 3ms/step - loss: 0.1406 - mape: 1018131.9375 - val_loss: 0.1657 - val_mape: 1122418.3750\n",
            "Epoch 82/100\n",
            "403/403 [==============================] - 1s 3ms/step - loss: 0.1380 - mape: 1089853.8750 - val_loss: 0.1645 - val_mape: 1105412.8750\n",
            "Epoch 83/100\n",
            "403/403 [==============================] - 1s 3ms/step - loss: 0.1330 - mape: 1081334.7500 - val_loss: 0.1654 - val_mape: 1325770.7500\n",
            "Epoch 84/100\n",
            "403/403 [==============================] - 1s 3ms/step - loss: 0.1329 - mape: 1055935.7500 - val_loss: 0.1656 - val_mape: 1281699.5000\n",
            "Epoch 85/100\n",
            "403/403 [==============================] - 1s 3ms/step - loss: 0.1376 - mape: 1044333.1875 - val_loss: 0.1548 - val_mape: 1203634.2500\n",
            "Epoch 86/100\n",
            "403/403 [==============================] - 1s 3ms/step - loss: 0.1286 - mape: 1051433.2500 - val_loss: 0.1610 - val_mape: 1123206.1250\n",
            "Epoch 87/100\n",
            "403/403 [==============================] - 1s 3ms/step - loss: 0.1291 - mape: 984784.5625 - val_loss: 0.1592 - val_mape: 1011025.3125\n",
            "Epoch 88/100\n",
            "403/403 [==============================] - 1s 3ms/step - loss: 0.1295 - mape: 1011849.8125 - val_loss: 0.1546 - val_mape: 1041472.5625\n",
            "Epoch 89/100\n",
            "403/403 [==============================] - 1s 3ms/step - loss: 0.1273 - mape: 1016398.2500 - val_loss: 0.1702 - val_mape: 1176215.3750\n",
            "Epoch 90/100\n",
            "403/403 [==============================] - 1s 3ms/step - loss: 0.1300 - mape: 1112935.0000 - val_loss: 0.1615 - val_mape: 1218606.6250\n",
            "Epoch 91/100\n",
            "403/403 [==============================] - 1s 3ms/step - loss: 0.1245 - mape: 1015776.0625 - val_loss: 0.1473 - val_mape: 1181837.5000\n",
            "Epoch 92/100\n",
            "403/403 [==============================] - 1s 3ms/step - loss: 0.1242 - mape: 999488.1250 - val_loss: 0.1574 - val_mape: 1094121.5000\n",
            "Epoch 93/100\n",
            "403/403 [==============================] - 1s 3ms/step - loss: 0.1247 - mape: 1080641.2500 - val_loss: 0.1618 - val_mape: 1136771.7500\n",
            "Epoch 94/100\n",
            "403/403 [==============================] - 1s 3ms/step - loss: 0.1249 - mape: 1031200.3750 - val_loss: 0.1551 - val_mape: 1226193.7500\n",
            "Epoch 95/100\n",
            "403/403 [==============================] - 1s 3ms/step - loss: 0.1186 - mape: 1009421.7500 - val_loss: 0.1551 - val_mape: 1121679.2500\n",
            "Epoch 96/100\n",
            "403/403 [==============================] - 1s 3ms/step - loss: 0.1206 - mape: 994673.7500 - val_loss: 0.1544 - val_mape: 1084365.5000\n",
            "Epoch 97/100\n",
            "403/403 [==============================] - 1s 3ms/step - loss: 0.1179 - mape: 1010477.1250 - val_loss: 0.1500 - val_mape: 1201357.0000\n",
            "Epoch 98/100\n",
            "403/403 [==============================] - 1s 3ms/step - loss: 0.1221 - mape: 1058291.7500 - val_loss: 0.1609 - val_mape: 1304110.2500\n",
            "Epoch 99/100\n",
            "403/403 [==============================] - 1s 3ms/step - loss: 0.1189 - mape: 1064680.3750 - val_loss: 0.1503 - val_mape: 1077843.8750\n",
            "Epoch 100/100\n",
            "403/403 [==============================] - 1s 3ms/step - loss: 0.1157 - mape: 1047728.9375 - val_loss: 0.1487 - val_mape: 1126939.6250\n"
          ]
        }
      ],
      "source": [
        "# Full training of best model\n",
        "H = DNN.fit(x=x_train, y=y_train, batch_size=64, epochs=100, validation_split=0.1)"
      ]
    },
    {
      "cell_type": "code",
      "execution_count": 53,
      "metadata": {
        "colab": {
          "base_uri": "https://localhost:8080/",
          "height": 290
        },
        "id": "LYDG8I2N9IZN",
        "outputId": "cd82683a-e4da-41fa-809c-2ec192430645"
      },
      "outputs": [
        {
          "data": {
            "image/png": "[encoded data removed]",
            "text/plain": [
              "<Figure size 2000x400 with 2 Axes>"
            ]
          },
          "metadata": {},
          "output_type": "display_data"
        }
      ],
      "source": [
        "# Plot loss\n",
        "plt.figure(figsize=(20, 4))\n",
        "plt.subplot(1, 2, 1)\n",
        "plt.plot(DNN.history.history['loss'], label='Training', linewidth=2)\n",
        "plt.plot(DNN.history.history['val_loss'], label='Validation', linewidth=2)\n",
        "plt.legend()\n",
        "plt.xlabel('Epoch')\n",
        "plt.ylabel('Loss (mse)')\n",
        "plt.grid()\n",
        "plt.subplot(1, 2, 2)\n",
        "plt.plot(DNN.history.history['mape'], label='Training', linewidth=2)\n",
        "plt.plot(DNN.history.history['val_mape'], label='Validation', linewidth=2)\n",
        "plt.legend()\n",
        "plt.xlabel('Epoch')\n",
        "plt.ylabel('MAPE')\n",
        "plt.grid()\n",
        "plt.show()"
      ]
    },
    {
      "cell_type": "code",
      "execution_count": 54,
      "metadata": {
        "colab": {
          "base_uri": "https://localhost:8080/"
        },
        "id": "kxp-aIKj9IZP",
        "outputId": "d041f408-b63b-4720-b5b3-00e95424b3bc"
      },
      "outputs": [
        {
          "name": "stdout",
          "output_type": "stream",
          "text": [
            "Test loss and MAPE: [0.13817720115184784, 711213.6875]\n"
          ]
        }
      ],
      "source": [
        "# Compute test loss\n",
        "loss_test = DNN.evaluate(x=x_test, y=y_test, verbose=False)\n",
        "print(\"Test loss and MAPE:\", loss_test)"
      ]
    },
    {
      "cell_type": "code",
      "execution_count": 55,
      "metadata": {
        "colab": {
          "base_uri": "https://localhost:8080/"
        },
        "id": "eJEi2uok9IZQ",
        "outputId": "26db3606-53aa-4386-f4f2-426f115704f8"
      },
      "outputs": [
        {
          "name": "stdout",
          "output_type": "stream",
          "text": [
            "100/100 [==============================] - 0s 1ms/step\n",
            "(3182, 2)\n"
          ]
        }
      ],
      "source": [
        "# Predict on test set\n",
        "y_test_hat = DNN.predict(x=x_test)\n",
        "print(y_test_hat.shape)"
      ]
    },
    {
      "cell_type": "code",
      "execution_count": 56,
      "metadata": {
        "colab": {
          "base_uri": "https://localhost:8080/",
          "height": 295
        },
        "id": "f_4_ldJB9IZQ",
        "outputId": "556874e6-f6f6-497e-e794-fbf7e2a40b6c"
      },
      "outputs": [
        {
          "data": {
            "image/png": "[encoded data removed]",
            "text/plain": [
              "<Figure size 640x480 with 1 Axes>"
            ]
          },
          "metadata": {},
          "output_type": "display_data"
        }
      ],
      "source": [
        "# Plot y_test_hat\n",
        "indx = np.random.permutation(len(y_test))[:500]\n",
        "plt.scatter(y_test[indx, 0], y_test[indx, 1], c='b', label='y')\n",
        "plt.scatter(y_test_hat[indx, 0], y_test_hat[indx, 1], c='r', marker='+', label='y_h')\n",
        "\n",
        "plt.legend()\n",
        "plt.grid(True)\n",
        "plt.xlabel('PM2.5')\n",
        "plt.ylabel('NO2')\n",
        "plt.title('Test set and its predictions')\n",
        "plt.show()"
      ]
    },
    {
      "cell_type": "markdown",
      "metadata": {
        "id": "dfa1V1ugGNMw"
      },
      "source": [
        "# Part 4: save model to disk and load ti back"
      ]
    },
    {
      "cell_type": "code",
      "execution_count": 25,
      "metadata": {
        "id": "Dj1cG1L5GRf_"
      },
      "outputs": [],
      "source": [
        "# Save model to disk, then delete it\n",
        "DNN.save(\"my_DNN_model.h5\")\n",
        "\n",
        "del DNN"
      ]
    },
    {
      "cell_type": "code",
      "execution_count": 26,
      "metadata": {
        "colab": {
          "base_uri": "https://localhost:8080/"
        },
        "id": "tz95tvPvGamV",
        "outputId": "90213a02-47ce-48bb-d7b8-9fdc59caed2c"
      },
      "outputs": [
        {
          "name": "stdout",
          "output_type": "stream",
          "text": [
            "100/100 [==============================] - 0s 1ms/step\n",
            "(3182, 2)\n"
          ]
        }
      ],
      "source": [
        "# Load model back into memory, and use it for prediction\n",
        "from tensorflow.keras.models import load_model\n",
        "DNN = load_model(\"my_DNN_model.h5\")\n",
        "\n",
        "y_test_hat = DNN.predict(x=x_test)\n",
        "print(y_test_hat.shape)"
      ]
    },
    {
      "cell_type": "code",
      "execution_count": null,
      "metadata": {
        "id": "8r52F4EqgDR4"
      },
      "outputs": [],
      "source": []
    }
  ],
  "metadata": {
    "accelerator": "GPU",
    "colab": {
      "collapsed_sections": [
        "oN6aBWNOWrY7",
        "7AnH6VY-W09n",
        "Xx9N-n_K4_3k",
        "Flg_pGZD5_0F"
      ],
      "provenance": []
    },
    "gpuClass": "standard",
    "kernelspec": {
      "display_name": "deep_learning",
      "language": "python",
      "name": "python3"
    },
    "language_info": {
      "codemirror_mode": {
        "name": "ipython",
        "version": 3
      },
      "file_extension": ".py",
      "mimetype": "text/x-python",
      "name": "python",
      "nbconvert_exporter": "python",
      "pygments_lexer": "ipython3",
      "version": "3.9.16"
    },
    "vscode": {
      "interpreter": {
        "hash": "a4c27bd3d55ee9421d19fc763f3ce99701020fc23819b42e0e6bd8b9a3077ef9"
      }
    }
  },
  "nbformat": 4,
  "nbformat_minor": 0
}
